{
 "cells": [
  {
   "cell_type": "markdown",
   "metadata": {},
   "source": [
    "## Course Project\n",
    "\n",
    "**Instructions:** <br>\n",
    "a. In the course project, you will analyze a real-world dataset on housing sale price prediction. You will write a report on your data analysis using Jupyter Notebook. <br>\n",
    "b. For each step, make sure to explain what you are doing, annotate your results, and provide your interpretation. <br>\n",
    "c. When you finish, make sure to use `Kernel` -> `Restart and Run All` to restart the kernel and rerun the entire notebook to generate the desired outputs, before submitting your project report. <br>\n",
    "d. Upload your .ipynb file to Canvas for grading. <br>\n",
    "e. All questions related to the course project shall be posted in the Discussions section on Canvas. <br>\n",
    "<br>\n",
    "\n",
    "**Policy:** <br>\n",
    "The course project is worth 25 points, counting towards 25% of the course final score. <br>\n",
    "\n",
    "Late submission, empty submission or no submission receives 0 point. Please note that in order to pass the course, at least 30% of the total score for the project must be obtained. In case of special circumstances, email the instructor directly ahead of time. "
   ]
  },
  {
   "cell_type": "markdown",
   "metadata": {},
   "source": [
    "### Housing Sale Price Prediction\n",
    "You can download the csv files from the project folder on Canvas.  <br>\n",
    "\n",
    "#### Context\n",
    "There can be tons of reasons that affect the price of a house. This project aims to predict the final price of each home `SalePrice`. <br>\n",
    "\n",
    "#### Variables: Brief Description\n",
    "SalePrice - the property's sale price in dollars: the target variable to predict.<br>\n",
    "MSSubClass: The building class<br>\n",
    "MSZoning: The general zoning classification<br>\n",
    "LotFrontage: Linear feet of street connected to property<br>\n",
    "LotArea: Lot size in square feet<br>\n",
    "Street: Type of road access<br>\n",
    "Alley: Type of alley access<br>\n",
    "LotShape: General shape of property<br>\n",
    "LandContour: Flatness of the property<br>\n",
    "Utilities: Type of utilities available<br>\n",
    "LotConfig: Lot configuration<br>\n",
    "LandSlope: Slope of property<br>\n",
    "Neighborhood: Physical locations within Ames city limits<br>\n",
    "Condition1: Proximity to main road or railroad<br>\n",
    "Condition2: Proximity to main road or railroad (if a second is present)<br>\n",
    "BldgType: Type of dwelling<br>\n",
    "HouseStyle: Style of dwelling<br>\n",
    "OverallQual: Overall material and finish quality<br>\n",
    "OverallCond: Overall condition rating<br>\n",
    "YearBuilt: Original construction date<br>\n",
    "YearRemodAdd: Remodel date<br>\n",
    "RoofStyle: Type of roof<br>\n",
    "RoofMatl: Roof material<br>\n",
    "Exterior1st: Exterior covering on house<br>\n",
    "Exterior2nd: Exterior covering on house (if more than one material)<br>\n",
    "MasVnrType: Masonry veneer type<br>\n",
    "MasVnrArea: Masonry veneer area in square feet<br>\n",
    "ExterQual: Exterior material quality<br>\n",
    "ExterCond: Present condition of the material on the exterior<br>\n",
    "Foundation: Type of foundation<br>\n",
    "BsmtQual: Height of the basement<br>\n",
    "BsmtCond: General condition of the basement<br>\n",
    "BsmtExposure: Walkout or garden level basement walls<br>\n",
    "BsmtFinType1: Quality of basement finished area<br>\n",
    "BsmtFinSF1: Type 1 finished square feet<br>\n",
    "BsmtFinType2: Quality of second finished area (if present)<br>\n",
    "BsmtFinSF2: Type 2 finished square feet<br>\n",
    "BsmtUnfSF: Unfinished square feet of basement area<br>\n",
    "TotalBsmtSF: Total square feet of basement area<br>\n",
    "Heating: Type of heating<br>\n",
    "HeatingQC: Heating quality and condition<br>\n",
    "CentralAir: Central air conditioning<br>\n",
    "Electrical: Electrical system<br>\n",
    "1stFlrSF: First Floor square feet<br>\n",
    "2ndFlrSF: Second floor square feet<br>\n",
    "LowQualFinSF: Low quality finished square feet (all floors)<br>\n",
    "GrLivArea: Above grade (ground) living area square feet<br>\n",
    "BsmtFullBath: Basement full bathrooms<br>\n",
    "BsmtHalfBath: Basement half bathrooms<br>\n",
    "FullBath: Full bathrooms above grade<br>\n",
    "HalfBath: Half baths above grade<br>\n",
    "Bedroom: Number of bedrooms above basement level<br>\n",
    "Kitchen: Number of kitchens<br>\n",
    "KitchenQual: Kitchen quality<br>\n",
    "TotRmsAbvGrd: Total rooms above grade (does not include bathrooms)<br>\n",
    "Functional: Home functionality rating<br>\n",
    "Fireplaces: Number of fireplaces<br>\n",
    "FireplaceQu: Fireplace quality<br>\n",
    "GarageType: Garage location<br>\n",
    "GarageYrBlt: Year garage was built<br>\n",
    "GarageFinish: Interior finish of the garage<br>\n",
    "GarageCars: Size of garage in car capacity<br>\n",
    "GarageArea: Size of garage in square feet<br>\n",
    "GarageQual: Garage quality<br>\n",
    "GarageCond: Garage condition<br>\n",
    "PavedDrive: Paved driveway<br>\n",
    "WoodDeckSF: Wood deck area in square feet<br>\n",
    "OpenPorchSF: Open porch area in square feet<br>\n",
    "EnclosedPorch: Enclosed porch area in square feet<br>\n",
    "3SsnPorch: Three season porch area in square feet<br>\n",
    "ScreenPorch: Screen porch area in square feet<br>\n",
    "PoolArea: Pool area in square feet<br>\n",
    "PoolQC: Pool quality<br>\n",
    "Fence: Fence quality<br>\n",
    "MiscFeature: Miscellaneous feature not covered in other categories<br>\n",
    "MiscVal: Value of miscellaneous feature<br>\n",
    "MoSold: Month Sold<br>\n",
    "YrSold: Year Sold<br>\n",
    "SaleType: Type of sale<br>\n",
    "SaleCondition: Condition of sale<br>"
   ]
  },
  {
   "cell_type": "markdown",
   "metadata": {},
   "source": [
    "### Module 1: Data Exploration\n",
    "Load `housing_train.csv` and explore the dataset. How do the data look like? Are there any missing values? What do you do with missing values, i.e. removal, imputation, etc.?<br>\n",
    "Are there any outliers? What do you do with outliers, i.e. drop them, explore the effects of outliers on models, etc.? <br>\n",
    "Record your analysis procedures. For example, 20 observations are removed due to missingness, and 3,000 observations remain for further analysis. <br>\n",
    "\n",
    "Hint: for removal of extreme outliers, consider: Q1=df.quantile(0.25); Q3=df.quantile(0.75); IQR=Q3-Q1; <br>\n",
    "Remove samples that are smaller than Q1 - 2.5 * IQR or larger than Q3 + 2.5 * IQR."
   ]
  },
  {
   "cell_type": "code",
   "execution_count": 1,
   "metadata": {},
   "outputs": [],
   "source": [
    "import numpy as np\n",
    "import pandas as pd\n",
    "import matplotlib.pyplot as plt\n",
    "import seaborn as sns\n",
    "\n"
   ]
  },
  {
   "cell_type": "code",
   "execution_count": 2,
   "metadata": {},
   "outputs": [
    {
     "name": "stdout",
     "output_type": "stream",
     "text": [
      "Old shape  (1200, 81)\n",
      "New shape  (1181, 81)\n",
      "50 observations were removed for extreme removal. 1150 remain for further analysis.\n"
     ]
    }
   ],
   "source": [
    "df = pd.read_csv('housing_train.csv')\n",
    "df1 = df.copy()\n",
    "\n",
    "#Removal of outliers\n",
    "Q1 = np.percentile(df1['SalePrice'], 25,\n",
    "                   interpolation = 'midpoint')\n",
    " \n",
    "Q3 = np.percentile(df1['SalePrice'], 75,\n",
    "                   interpolation = 'midpoint')\n",
    "IQR = Q3 - Q1\n",
    " \n",
    "print(\"Old shape \", df1.shape) \n",
    "# Upper bound\n",
    "upper = np.where(df1['SalePrice'] >= (Q3+2.5*IQR))\n",
    "# Lower bound\n",
    "lower = np.where(df1['SalePrice'] <= (Q1-2.5*IQR))\n",
    " \n",
    "''' Removing the Outliers '''\n",
    "df1.drop(upper[0], inplace = True)\n",
    "df1.drop(lower[0], inplace = True)\n",
    "\n",
    "print(\"New shape \", df1.shape)\n",
    "\n",
    "print(\"50 observations were removed for extreme removal. 1150 remain for further analysis.\")\n",
    "\n",
    "#change some categorical to numerical using dummy indicator\n",
    "#"
   ]
  },
  {
   "cell_type": "code",
   "execution_count": 3,
   "metadata": {},
   "outputs": [],
   "source": [
    "#determine which rows are numerical\n",
    "#looking for columns with data type 'int64'\n",
    "\n",
    "c = df1.select_dtypes(include = 'int64')\n"
   ]
  },
  {
   "cell_type": "code",
   "execution_count": 4,
   "metadata": {},
   "outputs": [
    {
     "data": {
      "text/plain": [
       "Id               0\n",
       "MSSubClass       0\n",
       "LotArea          0\n",
       "OverallQual      0\n",
       "OverallCond      0\n",
       "YearBuilt        0\n",
       "YearRemodAdd     0\n",
       "BsmtFinSF1       0\n",
       "BsmtFinSF2       0\n",
       "BsmtUnfSF        0\n",
       "TotalBsmtSF      0\n",
       "X1stFlrSF        0\n",
       "X2ndFlrSF        0\n",
       "LowQualFinSF     0\n",
       "GrLivArea        0\n",
       "BsmtFullBath     0\n",
       "BsmtHalfBath     0\n",
       "FullBath         0\n",
       "HalfBath         0\n",
       "BedroomAbvGr     0\n",
       "KitchenAbvGr     0\n",
       "TotRmsAbvGrd     0\n",
       "Fireplaces       0\n",
       "GarageCars       0\n",
       "GarageArea       0\n",
       "WoodDeckSF       0\n",
       "OpenPorchSF      0\n",
       "EnclosedPorch    0\n",
       "X3SsnPorch       0\n",
       "ScreenPorch      0\n",
       "PoolArea         0\n",
       "MiscVal          0\n",
       "MoSold           0\n",
       "YrSold           0\n",
       "SalePrice        0\n",
       "dtype: int64"
      ]
     },
     "execution_count": 4,
     "metadata": {},
     "output_type": "execute_result"
    }
   ],
   "source": [
    "#checking whether there are any null values\n",
    "c.isnull().sum()"
   ]
  },
  {
   "cell_type": "code",
   "execution_count": 5,
   "metadata": {},
   "outputs": [
    {
     "data": {
      "text/html": [
       "<div>\n",
       "<style scoped>\n",
       "    .dataframe tbody tr th:only-of-type {\n",
       "        vertical-align: middle;\n",
       "    }\n",
       "\n",
       "    .dataframe tbody tr th {\n",
       "        vertical-align: top;\n",
       "    }\n",
       "\n",
       "    .dataframe thead th {\n",
       "        text-align: right;\n",
       "    }\n",
       "</style>\n",
       "<table border=\"1\" class=\"dataframe\">\n",
       "  <thead>\n",
       "    <tr style=\"text-align: right;\">\n",
       "      <th></th>\n",
       "      <th>LotFrontage</th>\n",
       "      <th>MasVnrArea</th>\n",
       "      <th>GarageYrBlt</th>\n",
       "    </tr>\n",
       "  </thead>\n",
       "  <tbody>\n",
       "    <tr>\n",
       "      <th>0</th>\n",
       "      <td>60.0</td>\n",
       "      <td>0.0</td>\n",
       "      <td>1979.0</td>\n",
       "    </tr>\n",
       "    <tr>\n",
       "      <th>1</th>\n",
       "      <td>NaN</td>\n",
       "      <td>0.0</td>\n",
       "      <td>1984.0</td>\n",
       "    </tr>\n",
       "    <tr>\n",
       "      <th>2</th>\n",
       "      <td>NaN</td>\n",
       "      <td>1.0</td>\n",
       "      <td>1977.0</td>\n",
       "    </tr>\n",
       "    <tr>\n",
       "      <th>3</th>\n",
       "      <td>87.0</td>\n",
       "      <td>250.0</td>\n",
       "      <td>2006.0</td>\n",
       "    </tr>\n",
       "    <tr>\n",
       "      <th>4</th>\n",
       "      <td>63.0</td>\n",
       "      <td>106.0</td>\n",
       "      <td>2004.0</td>\n",
       "    </tr>\n",
       "    <tr>\n",
       "      <th>...</th>\n",
       "      <td>...</td>\n",
       "      <td>...</td>\n",
       "      <td>...</td>\n",
       "    </tr>\n",
       "    <tr>\n",
       "      <th>1195</th>\n",
       "      <td>71.0</td>\n",
       "      <td>338.0</td>\n",
       "      <td>2008.0</td>\n",
       "    </tr>\n",
       "    <tr>\n",
       "      <th>1196</th>\n",
       "      <td>70.0</td>\n",
       "      <td>116.0</td>\n",
       "      <td>1998.0</td>\n",
       "    </tr>\n",
       "    <tr>\n",
       "      <th>1197</th>\n",
       "      <td>NaN</td>\n",
       "      <td>180.0</td>\n",
       "      <td>1957.0</td>\n",
       "    </tr>\n",
       "    <tr>\n",
       "      <th>1198</th>\n",
       "      <td>65.0</td>\n",
       "      <td>266.0</td>\n",
       "      <td>2004.0</td>\n",
       "    </tr>\n",
       "    <tr>\n",
       "      <th>1199</th>\n",
       "      <td>80.0</td>\n",
       "      <td>320.0</td>\n",
       "      <td>1973.0</td>\n",
       "    </tr>\n",
       "  </tbody>\n",
       "</table>\n",
       "<p>1181 rows × 3 columns</p>\n",
       "</div>"
      ],
      "text/plain": [
       "      LotFrontage  MasVnrArea  GarageYrBlt\n",
       "0            60.0         0.0       1979.0\n",
       "1             NaN         0.0       1984.0\n",
       "2             NaN         1.0       1977.0\n",
       "3            87.0       250.0       2006.0\n",
       "4            63.0       106.0       2004.0\n",
       "...           ...         ...          ...\n",
       "1195         71.0       338.0       2008.0\n",
       "1196         70.0       116.0       1998.0\n",
       "1197          NaN       180.0       1957.0\n",
       "1198         65.0       266.0       2004.0\n",
       "1199         80.0       320.0       1973.0\n",
       "\n",
       "[1181 rows x 3 columns]"
      ]
     },
     "execution_count": 5,
     "metadata": {},
     "output_type": "execute_result"
    }
   ],
   "source": [
    "#looking for columns with data type 'float64'\n",
    "d = df1.select_dtypes(include = 'float64')\n",
    "d"
   ]
  },
  {
   "cell_type": "code",
   "execution_count": 6,
   "metadata": {},
   "outputs": [
    {
     "data": {
      "text/plain": [
       "LotFrontage    209\n",
       "MasVnrArea       5\n",
       "GarageYrBlt     69\n",
       "dtype: int64"
      ]
     },
     "execution_count": 6,
     "metadata": {},
     "output_type": "execute_result"
    }
   ],
   "source": [
    "#checking for null values\n",
    "d.isnull().sum()"
   ]
  },
  {
   "cell_type": "code",
   "execution_count": 7,
   "metadata": {},
   "outputs": [
    {
     "name": "stderr",
     "output_type": "stream",
     "text": [
      "/Users/farihaahmed/opt/anaconda3/lib/python3.8/site-packages/seaborn/_decorators.py:36: FutureWarning: Pass the following variable as a keyword arg: x. From version 0.12, the only valid positional argument will be `data`, and passing other arguments without an explicit keyword will result in an error or misinterpretation.\n",
      "  warnings.warn(\n"
     ]
    },
    {
     "data": {
      "text/plain": [
       "<AxesSubplot:xlabel='LotFrontage'>"
      ]
     },
     "execution_count": 7,
     "metadata": {},
     "output_type": "execute_result"
    },
    {
     "data": {
      "image/png": "[encoded data removed]",
      "text/plain": [
       "<Figure size 432x288 with 1 Axes>"
      ]
     },
     "metadata": {
      "needs_background": "light"
     },
     "output_type": "display_data"
    }
   ],
   "source": [
    "sns.boxplot(d.LotFrontage)\n"
   ]
  },
  {
   "cell_type": "code",
   "execution_count": 8,
   "metadata": {},
   "outputs": [
    {
     "name": "stderr",
     "output_type": "stream",
     "text": [
      "/Users/farihaahmed/opt/anaconda3/lib/python3.8/site-packages/seaborn/_decorators.py:36: FutureWarning: Pass the following variable as a keyword arg: x. From version 0.12, the only valid positional argument will be `data`, and passing other arguments without an explicit keyword will result in an error or misinterpretation.\n",
      "  warnings.warn(\n"
     ]
    },
    {
     "data": {
      "text/plain": [
       "<AxesSubplot:xlabel='MasVnrArea'>"
      ]
     },
     "execution_count": 8,
     "metadata": {},
     "output_type": "execute_result"
    },
    {
     "data": {
      "image/png": "[encoded data removed]",
      "text/plain": [
       "<Figure size 432x288 with 1 Axes>"
      ]
     },
     "metadata": {
      "needs_background": "light"
     },
     "output_type": "display_data"
    }
   ],
   "source": [
    "sns.boxplot(d.MasVnrArea)\n"
   ]
  },
  {
   "cell_type": "code",
   "execution_count": 9,
   "metadata": {},
   "outputs": [
    {
     "name": "stderr",
     "output_type": "stream",
     "text": [
      "/Users/farihaahmed/opt/anaconda3/lib/python3.8/site-packages/seaborn/_decorators.py:36: FutureWarning: Pass the following variable as a keyword arg: x. From version 0.12, the only valid positional argument will be `data`, and passing other arguments without an explicit keyword will result in an error or misinterpretation.\n",
      "  warnings.warn(\n"
     ]
    },
    {
     "data": {
      "text/plain": [
       "<AxesSubplot:xlabel='GarageYrBlt'>"
      ]
     },
     "execution_count": 9,
     "metadata": {},
     "output_type": "execute_result"
    },
    {
     "data": {
      "image/png": "[encoded data removed]",
      "text/plain": [
       "<Figure size 432x288 with 1 Axes>"
      ]
     },
     "metadata": {
      "needs_background": "light"
     },
     "output_type": "display_data"
    }
   ],
   "source": [
    "sns.boxplot(d.GarageYrBlt)\n"
   ]
  },
  {
   "cell_type": "code",
   "execution_count": 10,
   "metadata": {},
   "outputs": [],
   "source": [
    "#Since the boxplot of the column 'LotFrontage' shows outliers, so we will fill the missing values of it with the median value\n",
    "df2 = df1.copy()\n",
    "df2['LotFrontage'] = df['LotFrontage'].fillna(df['LotFrontage'].median())"
   ]
  },
  {
   "cell_type": "code",
   "execution_count": 11,
   "metadata": {},
   "outputs": [],
   "source": [
    "#Since MasVnrArea shows outliers in the boxplot, so we fill the missing values with the median values\n",
    "df2['MasVnrArea'] = df['MasVnrArea'].fillna(df['MasVnrArea'].median())"
   ]
  },
  {
   "cell_type": "code",
   "execution_count": 12,
   "metadata": {},
   "outputs": [],
   "source": [
    "#Since 'GarageYrBlt' contains time series data, we use the 'ffill', i.e., forward fill function to fill the missing values\n",
    "df2['GarageYrBlt'].fillna(method='ffill', inplace = True)\n"
   ]
  },
  {
   "cell_type": "code",
   "execution_count": 13,
   "metadata": {},
   "outputs": [
    {
     "data": {
      "text/html": [
       "<div>\n",
       "<style scoped>\n",
       "    .dataframe tbody tr th:only-of-type {\n",
       "        vertical-align: middle;\n",
       "    }\n",
       "\n",
       "    .dataframe tbody tr th {\n",
       "        vertical-align: top;\n",
       "    }\n",
       "\n",
       "    .dataframe thead th {\n",
       "        text-align: right;\n",
       "    }\n",
       "</style>\n",
       "<table border=\"1\" class=\"dataframe\">\n",
       "  <thead>\n",
       "    <tr style=\"text-align: right;\">\n",
       "      <th></th>\n",
       "      <th>LotFrontage</th>\n",
       "      <th>MasVnrArea</th>\n",
       "      <th>GarageYrBlt</th>\n",
       "    </tr>\n",
       "  </thead>\n",
       "  <tbody>\n",
       "    <tr>\n",
       "      <th>0</th>\n",
       "      <td>60.0</td>\n",
       "      <td>0.0</td>\n",
       "      <td>1979.0</td>\n",
       "    </tr>\n",
       "    <tr>\n",
       "      <th>1</th>\n",
       "      <td>70.0</td>\n",
       "      <td>0.0</td>\n",
       "      <td>1984.0</td>\n",
       "    </tr>\n",
       "    <tr>\n",
       "      <th>2</th>\n",
       "      <td>70.0</td>\n",
       "      <td>1.0</td>\n",
       "      <td>1977.0</td>\n",
       "    </tr>\n",
       "    <tr>\n",
       "      <th>3</th>\n",
       "      <td>87.0</td>\n",
       "      <td>250.0</td>\n",
       "      <td>2006.0</td>\n",
       "    </tr>\n",
       "    <tr>\n",
       "      <th>4</th>\n",
       "      <td>63.0</td>\n",
       "      <td>106.0</td>\n",
       "      <td>2004.0</td>\n",
       "    </tr>\n",
       "    <tr>\n",
       "      <th>...</th>\n",
       "      <td>...</td>\n",
       "      <td>...</td>\n",
       "      <td>...</td>\n",
       "    </tr>\n",
       "    <tr>\n",
       "      <th>1195</th>\n",
       "      <td>71.0</td>\n",
       "      <td>338.0</td>\n",
       "      <td>2008.0</td>\n",
       "    </tr>\n",
       "    <tr>\n",
       "      <th>1196</th>\n",
       "      <td>70.0</td>\n",
       "      <td>116.0</td>\n",
       "      <td>1998.0</td>\n",
       "    </tr>\n",
       "    <tr>\n",
       "      <th>1197</th>\n",
       "      <td>70.0</td>\n",
       "      <td>180.0</td>\n",
       "      <td>1957.0</td>\n",
       "    </tr>\n",
       "    <tr>\n",
       "      <th>1198</th>\n",
       "      <td>65.0</td>\n",
       "      <td>266.0</td>\n",
       "      <td>2004.0</td>\n",
       "    </tr>\n",
       "    <tr>\n",
       "      <th>1199</th>\n",
       "      <td>80.0</td>\n",
       "      <td>320.0</td>\n",
       "      <td>1973.0</td>\n",
       "    </tr>\n",
       "  </tbody>\n",
       "</table>\n",
       "<p>1181 rows × 3 columns</p>\n",
       "</div>"
      ],
      "text/plain": [
       "      LotFrontage  MasVnrArea  GarageYrBlt\n",
       "0            60.0         0.0       1979.0\n",
       "1            70.0         0.0       1984.0\n",
       "2            70.0         1.0       1977.0\n",
       "3            87.0       250.0       2006.0\n",
       "4            63.0       106.0       2004.0\n",
       "...           ...         ...          ...\n",
       "1195         71.0       338.0       2008.0\n",
       "1196         70.0       116.0       1998.0\n",
       "1197         70.0       180.0       1957.0\n",
       "1198         65.0       266.0       2004.0\n",
       "1199         80.0       320.0       1973.0\n",
       "\n",
       "[1181 rows x 3 columns]"
      ]
     },
     "execution_count": 13,
     "metadata": {},
     "output_type": "execute_result"
    }
   ],
   "source": [
    "c1 = df2.select_dtypes(include = 'float64')\n",
    "c1"
   ]
  },
  {
   "cell_type": "code",
   "execution_count": 14,
   "metadata": {},
   "outputs": [
    {
     "data": {
      "text/plain": [
       "LotFrontage    0\n",
       "MasVnrArea     0\n",
       "GarageYrBlt    0\n",
       "dtype: int64"
      ]
     },
     "execution_count": 14,
     "metadata": {},
     "output_type": "execute_result"
    }
   ],
   "source": [
    "#checking the number of the null values again \n",
    "c1.isnull().sum()"
   ]
  },
  {
   "cell_type": "markdown",
   "metadata": {},
   "source": [
    "### Module 2: Data Visualization\n",
    "What are the distributions of variables? Are the variables distributed differently in the high-price group (i.e. > 300,000) versus the low-price group? Use tables and/or figures to visualize your exploration and findings. Present no more than 5 figures/tables that you think are important, and you may state in your findings that variables a, b, c have similar patterns."
   ]
  },
  {
   "cell_type": "code",
   "execution_count": 15,
   "metadata": {},
   "outputs": [],
   "source": [
    "#splitting the dataframe into high-price and low-price group \n",
    "hp = df2[df2['SalePrice'] > 300000]\n",
    "lp = df2[df2['SalePrice'] <= 300000]"
   ]
  },
  {
   "cell_type": "code",
   "execution_count": 16,
   "metadata": {},
   "outputs": [
    {
     "data": {
      "text/plain": [
       "<matplotlib.legend.Legend at 0x7fcb303b1970>"
      ]
     },
     "execution_count": 16,
     "metadata": {},
     "output_type": "execute_result"
    },
    {
     "data": {
      "image/png": "[encoded data removed]",
      "text/plain": [
       "<Figure size 432x288 with 1 Axes>"
      ]
     },
     "metadata": {
      "needs_background": "light"
     },
     "output_type": "display_data"
    }
   ],
   "source": [
    "# open figure/axis\n",
    "fig, ax = plt.subplots()\n",
    "\n",
    "# plot // you need to specify the axis\n",
    "hp.plot(x='YearBuilt', y='SalePrice', kind='scatter', ax=ax, c='r', label = 'High-Price')\n",
    "lp.plot(x='YearBuilt', y='SalePrice', kind='scatter', ax=ax, c='b', label = 'Low-Price')\n",
    "plt.title('Figure 1')\n",
    "plt.legend()"
   ]
  },
  {
   "cell_type": "markdown",
   "metadata": {},
   "source": [
    "In the figure 1, we can see that the ditribution of the high sale price group and the low sale price group are quite different from each other. Most of the high priced houses were built in the more recet period. Almost all the older houses fall in the lower price range. "
   ]
  },
  {
   "cell_type": "code",
   "execution_count": 17,
   "metadata": {},
   "outputs": [
    {
     "data": {
      "text/plain": [
       "Text(0.5, 1.0, 'Figure 2.2')"
      ]
     },
     "execution_count": 17,
     "metadata": {},
     "output_type": "execute_result"
    },
    {
     "data": {
      "image/png": "[encoded data removed]",
      "text/plain": [
       "<Figure size 432x432 with 3 Axes>"
      ]
     },
     "metadata": {
      "needs_background": "light"
     },
     "output_type": "display_data"
    },
    {
     "data": {
      "image/png": "[encoded data removed]",
      "text/plain": [
       "<Figure size 432x432 with 3 Axes>"
      ]
     },
     "metadata": {
      "needs_background": "light"
     },
     "output_type": "display_data"
    }
   ],
   "source": [
    "hp1 = sns.jointplot(data = hp, x=\"LotFrontage\", y=\"SalePrice\", kind=\"reg\", label = \"High-Price\")\n",
    "hp1.fig.suptitle('High-Price')\n",
    "plt.title('Figure 2.1')\n",
    "lp1 = sns.jointplot(data = lp, x=\"LotFrontage\", y=\"SalePrice\", kind=\"reg\", label = \"Low-Price\")\n",
    "lp1.fig.suptitle('Low-Price')\n",
    "plt.title('Figure 2.2')\n",
    "\n"
   ]
  },
  {
   "cell_type": "markdown",
   "metadata": {},
   "source": [
    "Figure 2 has two parts, i.e., figure 2.1 and figure 2.2. Figure 2 is used to explore the relationship between LotFrontage, which is the linear feet of street connected to property. Figure 2.1 is for the high priced houses and figure 2.2 is for the low priced housing. The figures exhibit positive relationship between the variables which is eveident from positively slopped regression line plotted from the scatter plots. From the above graph, we an see that the variables of the high-price group are uniformly distributed through the range. However, variables in the low-price group are skewed to the left. This shows that, most properties which have longer streets conneted to them may cost higher. But after crossing a certain price, 300,000 in this case, the variables are more uniformly distributed compared to the low priced housing."
   ]
  },
  {
   "cell_type": "code",
   "execution_count": 18,
   "metadata": {},
   "outputs": [
    {
     "data": {
      "text/plain": [
       "Text(0.5, 1.0, 'Figure 3')"
      ]
     },
     "execution_count": 18,
     "metadata": {},
     "output_type": "execute_result"
    },
    {
     "data": {
      "image/png": "[encoded data removed]",
      "text/plain": [
       "<Figure size 432x288 with 1 Axes>"
      ]
     },
     "metadata": {
      "needs_background": "light"
     },
     "output_type": "display_data"
    }
   ],
   "source": [
    "plt.bar(hp['TotalBsmtSF'], hp['SalePrice'],width = 500, label='High-Price', alpha = 0.7)\n",
    "plt.bar(lp['TotalBsmtSF'], lp['SalePrice'], width = 500, label = 'Low-Price', alpha = 0.5)\n",
    "plt.legend()\n",
    "plt.xlabel('Total Basement Surface Area')\n",
    "plt.ylabel('Sale Price')\n",
    "plt.title('Figure 3')"
   ]
  },
  {
   "cell_type": "markdown",
   "metadata": {},
   "source": [
    "In the figure 3, we have tried to explore the relationship between the total basement surface area of the houses with their sale prices. In this case, we have observed that the total basement area of the low-priced houses are more widely distributed compared to the low-priced group."
   ]
  },
  {
   "cell_type": "code",
   "execution_count": 19,
   "metadata": {},
   "outputs": [
    {
     "data": {
      "text/plain": [
       "Text(0.5, 1.0, 'Figure 4.2')"
      ]
     },
     "execution_count": 19,
     "metadata": {},
     "output_type": "execute_result"
    },
    {
     "data": {
      "image/png": "[encoded data removed]",
      "text/plain": [
       "<Figure size 432x432 with 3 Axes>"
      ]
     },
     "metadata": {
      "needs_background": "light"
     },
     "output_type": "display_data"
    },
    {
     "data": {
      "image/png": "[encoded data removed]",
      "text/plain": [
       "<Figure size 432x432 with 3 Axes>"
      ]
     },
     "metadata": {
      "needs_background": "light"
     },
     "output_type": "display_data"
    }
   ],
   "source": [
    "hp2 = sns.jointplot(data=hp, x=\"LotArea\", y=\"SalePrice\", kind=\"kde\", xlim=(-20000,55000))\n",
    "hp2.fig.suptitle('High-Price')\n",
    "plt.title('Figure 4.1')\n",
    "\n",
    "\n",
    "lp2 = sns.jointplot(data=lp, x=\"LotArea\", y=\"SalePrice\", kind=\"kde\", xlim=(-2500,24000))\n",
    "lp2.fig.suptitle('Low-Price')\n",
    "lp2.set_xlim=(0,2000)\n",
    "plt.title('Figure 4.2')"
   ]
  },
  {
   "cell_type": "markdown",
   "metadata": {},
   "source": [
    "Figure 4 is reagrding how the size of the LotArea, which is the lot size of the property, affects the sale price of the housing. If we take a look at figure 4.1, this is the figure for the high-price group of houses. In this case, we can see that the density of the points are much denser when SalePrice is between 275000 and 320000 and when the LotArea is within 0 and 30000. Thus it can be said that most houses of the high-price range has a lot size within 0 and 30000. Figure 4.4 focuses on the relationship between the LotArea of the low-price range houses with their selling prices. According the figure, we can see that most houses are within the range of LotArea 2000 to 15000 and SalePrice 60000 to 250000.   "
   ]
  },
  {
   "cell_type": "code",
   "execution_count": 20,
   "metadata": {},
   "outputs": [
    {
     "name": "stderr",
     "output_type": "stream",
     "text": [
      "/Users/farihaahmed/opt/anaconda3/lib/python3.8/site-packages/seaborn/_decorators.py:36: FutureWarning: Pass the following variables as keyword args: x, y. From version 0.12, the only valid positional argument will be `data`, and passing other arguments without an explicit keyword will result in an error or misinterpretation.\n",
      "  warnings.warn(\n",
      "/Users/farihaahmed/opt/anaconda3/lib/python3.8/site-packages/seaborn/_decorators.py:36: FutureWarning: Pass the following variables as keyword args: x, y. From version 0.12, the only valid positional argument will be `data`, and passing other arguments without an explicit keyword will result in an error or misinterpretation.\n",
      "  warnings.warn(\n"
     ]
    },
    {
     "data": {
      "text/plain": [
       "Text(0.5, 1.0, 'Figure 5.2')"
      ]
     },
     "execution_count": 20,
     "metadata": {},
     "output_type": "execute_result"
    },
    {
     "data": {
      "image/png": "[encoded data removed]",
      "text/plain": [
       "<Figure size 432x432 with 3 Axes>"
      ]
     },
     "metadata": {
      "needs_background": "light"
     },
     "output_type": "display_data"
    },
    {
     "data": {
      "image/png": "[encoded data removed]",
      "text/plain": [
       "<Figure size 432x432 with 3 Axes>"
      ]
     },
     "metadata": {
      "needs_background": "light"
     },
     "output_type": "display_data"
    }
   ],
   "source": [
    "hp3 = sns.jointplot(\"GarageArea\", \"SalePrice\", data=hp, kind='hex');#hexagon density plot (nonnegative)\n",
    "hp2.fig.suptitle('High-Price')\n",
    "plt.title('Figure 5.1')\n",
    "\n",
    "\n",
    "lp3 = sns.jointplot(\"GarageArea\", \"SalePrice\", data=lp, kind='hex'); #hexagon density plot (nonnegative)\n",
    "hp2.fig.suptitle('Low-Price')\n",
    "plt.title('Figure 5.2')"
   ]
  },
  {
   "cell_type": "markdown",
   "metadata": {},
   "source": [
    "The Figure 5 is regarding the relationship between the GarageArea of houses and their SalePrice. The first figure, figure 5.1, focuses on the houses that fall into the high-price range. The second figure, figure 5.2, is regarding the houses that fall into the lower selling price category. Both the figures show a positive relationship between 'GarageArea' the 'SalePrice' of the houses. In figure 5.1, we can see that the hexagon is the darkest in color when the value of GarageArea is around 800 and SalePrice is between 300000 and 320000. In the second figure, figure 5.2, we can see that, there are more than darker hexagons, suggesting more variation in the SalePrice and GarageArea of the numebr of categories that contain the most number of houses."
   ]
  },
  {
   "cell_type": "markdown",
   "metadata": {},
   "source": [
    "### Module 3: Dimension Reduction\n",
    "Apply unsupervised learning methods to achieve dimension reduction. Visualize and interpret the results. Any dimension reduction algorithms can be used."
   ]
  },
  {
   "cell_type": "code",
   "execution_count": 21,
   "metadata": {},
   "outputs": [],
   "source": [
    "#PCA"
   ]
  },
  {
   "cell_type": "markdown",
   "metadata": {},
   "source": [
    "In order to perform dimension reduction, we will use Principal Component Analysis (PCA).\n",
    "PCA works better on numerical data, so we will be splitting the dataframe into categorical and numerical.\n",
    "Finally, we will perform PCA on numerical data only and will be taking the modified dataset for further analysis in module 4."
   ]
  },
  {
   "cell_type": "code",
   "execution_count": 22,
   "metadata": {},
   "outputs": [
    {
     "data": {
      "text/html": [
       "<div>\n",
       "<style scoped>\n",
       "    .dataframe tbody tr th:only-of-type {\n",
       "        vertical-align: middle;\n",
       "    }\n",
       "\n",
       "    .dataframe tbody tr th {\n",
       "        vertical-align: top;\n",
       "    }\n",
       "\n",
       "    .dataframe thead th {\n",
       "        text-align: right;\n",
       "    }\n",
       "</style>\n",
       "<table border=\"1\" class=\"dataframe\">\n",
       "  <thead>\n",
       "    <tr style=\"text-align: right;\">\n",
       "      <th></th>\n",
       "      <th>Id</th>\n",
       "      <th>MSSubClass</th>\n",
       "      <th>LotFrontage</th>\n",
       "      <th>LotArea</th>\n",
       "      <th>OverallQual</th>\n",
       "      <th>OverallCond</th>\n",
       "      <th>YearBuilt</th>\n",
       "      <th>YearRemodAdd</th>\n",
       "      <th>MasVnrArea</th>\n",
       "      <th>BsmtFinSF1</th>\n",
       "      <th>...</th>\n",
       "      <th>WoodDeckSF</th>\n",
       "      <th>OpenPorchSF</th>\n",
       "      <th>EnclosedPorch</th>\n",
       "      <th>X3SsnPorch</th>\n",
       "      <th>ScreenPorch</th>\n",
       "      <th>PoolArea</th>\n",
       "      <th>MiscVal</th>\n",
       "      <th>MoSold</th>\n",
       "      <th>YrSold</th>\n",
       "      <th>SalePrice</th>\n",
       "    </tr>\n",
       "  </thead>\n",
       "  <tbody>\n",
       "    <tr>\n",
       "      <th>0</th>\n",
       "      <td>952</td>\n",
       "      <td>20</td>\n",
       "      <td>60.0</td>\n",
       "      <td>7800</td>\n",
       "      <td>5</td>\n",
       "      <td>5</td>\n",
       "      <td>1965</td>\n",
       "      <td>1965</td>\n",
       "      <td>0.0</td>\n",
       "      <td>641</td>\n",
       "      <td>...</td>\n",
       "      <td>421</td>\n",
       "      <td>0</td>\n",
       "      <td>0</td>\n",
       "      <td>0</td>\n",
       "      <td>0</td>\n",
       "      <td>0</td>\n",
       "      <td>0</td>\n",
       "      <td>7</td>\n",
       "      <td>2006</td>\n",
       "      <td>119900</td>\n",
       "    </tr>\n",
       "    <tr>\n",
       "      <th>1</th>\n",
       "      <td>161</td>\n",
       "      <td>20</td>\n",
       "      <td>70.0</td>\n",
       "      <td>11120</td>\n",
       "      <td>6</td>\n",
       "      <td>6</td>\n",
       "      <td>1984</td>\n",
       "      <td>1984</td>\n",
       "      <td>0.0</td>\n",
       "      <td>660</td>\n",
       "      <td>...</td>\n",
       "      <td>0</td>\n",
       "      <td>0</td>\n",
       "      <td>0</td>\n",
       "      <td>0</td>\n",
       "      <td>0</td>\n",
       "      <td>0</td>\n",
       "      <td>0</td>\n",
       "      <td>6</td>\n",
       "      <td>2008</td>\n",
       "      <td>162500</td>\n",
       "    </tr>\n",
       "    <tr>\n",
       "      <th>2</th>\n",
       "      <td>1231</td>\n",
       "      <td>90</td>\n",
       "      <td>70.0</td>\n",
       "      <td>18890</td>\n",
       "      <td>5</td>\n",
       "      <td>5</td>\n",
       "      <td>1977</td>\n",
       "      <td>1977</td>\n",
       "      <td>1.0</td>\n",
       "      <td>498</td>\n",
       "      <td>...</td>\n",
       "      <td>155</td>\n",
       "      <td>24</td>\n",
       "      <td>145</td>\n",
       "      <td>0</td>\n",
       "      <td>0</td>\n",
       "      <td>0</td>\n",
       "      <td>8300</td>\n",
       "      <td>8</td>\n",
       "      <td>2007</td>\n",
       "      <td>190000</td>\n",
       "    </tr>\n",
       "    <tr>\n",
       "      <th>3</th>\n",
       "      <td>553</td>\n",
       "      <td>20</td>\n",
       "      <td>87.0</td>\n",
       "      <td>11146</td>\n",
       "      <td>8</td>\n",
       "      <td>5</td>\n",
       "      <td>2006</td>\n",
       "      <td>2006</td>\n",
       "      <td>250.0</td>\n",
       "      <td>0</td>\n",
       "      <td>...</td>\n",
       "      <td>169</td>\n",
       "      <td>39</td>\n",
       "      <td>0</td>\n",
       "      <td>0</td>\n",
       "      <td>0</td>\n",
       "      <td>0</td>\n",
       "      <td>0</td>\n",
       "      <td>7</td>\n",
       "      <td>2009</td>\n",
       "      <td>255500</td>\n",
       "    </tr>\n",
       "    <tr>\n",
       "      <th>4</th>\n",
       "      <td>1445</td>\n",
       "      <td>20</td>\n",
       "      <td>63.0</td>\n",
       "      <td>8500</td>\n",
       "      <td>7</td>\n",
       "      <td>5</td>\n",
       "      <td>2004</td>\n",
       "      <td>2004</td>\n",
       "      <td>106.0</td>\n",
       "      <td>0</td>\n",
       "      <td>...</td>\n",
       "      <td>192</td>\n",
       "      <td>60</td>\n",
       "      <td>0</td>\n",
       "      <td>0</td>\n",
       "      <td>0</td>\n",
       "      <td>0</td>\n",
       "      <td>0</td>\n",
       "      <td>11</td>\n",
       "      <td>2007</td>\n",
       "      <td>179600</td>\n",
       "    </tr>\n",
       "  </tbody>\n",
       "</table>\n",
       "<p>5 rows × 38 columns</p>\n",
       "</div>"
      ],
      "text/plain": [
       "     Id  MSSubClass  LotFrontage  LotArea  OverallQual  OverallCond  \\\n",
       "0   952          20         60.0     7800            5            5   \n",
       "1   161          20         70.0    11120            6            6   \n",
       "2  1231          90         70.0    18890            5            5   \n",
       "3   553          20         87.0    11146            8            5   \n",
       "4  1445          20         63.0     8500            7            5   \n",
       "\n",
       "   YearBuilt  YearRemodAdd  MasVnrArea  BsmtFinSF1  ...  WoodDeckSF  \\\n",
       "0       1965          1965         0.0         641  ...         421   \n",
       "1       1984          1984         0.0         660  ...           0   \n",
       "2       1977          1977         1.0         498  ...         155   \n",
       "3       2006          2006       250.0           0  ...         169   \n",
       "4       2004          2004       106.0           0  ...         192   \n",
       "\n",
       "   OpenPorchSF  EnclosedPorch  X3SsnPorch  ScreenPorch  PoolArea  MiscVal  \\\n",
       "0            0              0           0            0         0        0   \n",
       "1            0              0           0            0         0        0   \n",
       "2           24            145           0            0         0     8300   \n",
       "3           39              0           0            0         0        0   \n",
       "4           60              0           0            0         0        0   \n",
       "\n",
       "   MoSold  YrSold  SalePrice  \n",
       "0       7    2006     119900  \n",
       "1       6    2008     162500  \n",
       "2       8    2007     190000  \n",
       "3       7    2009     255500  \n",
       "4      11    2007     179600  \n",
       "\n",
       "[5 rows x 38 columns]"
      ]
     },
     "execution_count": 22,
     "metadata": {},
     "output_type": "execute_result"
    }
   ],
   "source": [
    "df3 = df2.select_dtypes(include = 'number')\n",
    "df3.head()"
   ]
  },
  {
   "cell_type": "code",
   "execution_count": 23,
   "metadata": {},
   "outputs": [],
   "source": [
    "from sklearn.model_selection import train_test_split\n",
    "from sklearn.preprocessing import StandardScaler\n",
    "from sklearn.decomposition import PCA\n",
    "from sklearn import decomposition"
   ]
  },
  {
   "cell_type": "code",
   "execution_count": 24,
   "metadata": {},
   "outputs": [
    {
     "data": {
      "text/html": [
       "<div>\n",
       "<style scoped>\n",
       "    .dataframe tbody tr th:only-of-type {\n",
       "        vertical-align: middle;\n",
       "    }\n",
       "\n",
       "    .dataframe tbody tr th {\n",
       "        vertical-align: top;\n",
       "    }\n",
       "\n",
       "    .dataframe thead th {\n",
       "        text-align: right;\n",
       "    }\n",
       "</style>\n",
       "<table border=\"1\" class=\"dataframe\">\n",
       "  <thead>\n",
       "    <tr style=\"text-align: right;\">\n",
       "      <th></th>\n",
       "      <th>Id</th>\n",
       "      <th>MSSubClass</th>\n",
       "      <th>LotFrontage</th>\n",
       "      <th>LotArea</th>\n",
       "      <th>OverallQual</th>\n",
       "      <th>OverallCond</th>\n",
       "      <th>YearBuilt</th>\n",
       "      <th>YearRemodAdd</th>\n",
       "      <th>MasVnrArea</th>\n",
       "      <th>BsmtFinSF1</th>\n",
       "      <th>...</th>\n",
       "      <th>WoodDeckSF</th>\n",
       "      <th>OpenPorchSF</th>\n",
       "      <th>EnclosedPorch</th>\n",
       "      <th>X3SsnPorch</th>\n",
       "      <th>ScreenPorch</th>\n",
       "      <th>PoolArea</th>\n",
       "      <th>MiscVal</th>\n",
       "      <th>MoSold</th>\n",
       "      <th>YrSold</th>\n",
       "      <th>SalePrice</th>\n",
       "    </tr>\n",
       "  </thead>\n",
       "  <tbody>\n",
       "    <tr>\n",
       "      <th>0</th>\n",
       "      <td>952</td>\n",
       "      <td>20</td>\n",
       "      <td>60.0</td>\n",
       "      <td>7800</td>\n",
       "      <td>5</td>\n",
       "      <td>5</td>\n",
       "      <td>1965</td>\n",
       "      <td>1965</td>\n",
       "      <td>0.0</td>\n",
       "      <td>641</td>\n",
       "      <td>...</td>\n",
       "      <td>421</td>\n",
       "      <td>0</td>\n",
       "      <td>0</td>\n",
       "      <td>0</td>\n",
       "      <td>0</td>\n",
       "      <td>0</td>\n",
       "      <td>0</td>\n",
       "      <td>7</td>\n",
       "      <td>2006</td>\n",
       "      <td>119900</td>\n",
       "    </tr>\n",
       "    <tr>\n",
       "      <th>1</th>\n",
       "      <td>161</td>\n",
       "      <td>20</td>\n",
       "      <td>70.0</td>\n",
       "      <td>11120</td>\n",
       "      <td>6</td>\n",
       "      <td>6</td>\n",
       "      <td>1984</td>\n",
       "      <td>1984</td>\n",
       "      <td>0.0</td>\n",
       "      <td>660</td>\n",
       "      <td>...</td>\n",
       "      <td>0</td>\n",
       "      <td>0</td>\n",
       "      <td>0</td>\n",
       "      <td>0</td>\n",
       "      <td>0</td>\n",
       "      <td>0</td>\n",
       "      <td>0</td>\n",
       "      <td>6</td>\n",
       "      <td>2008</td>\n",
       "      <td>162500</td>\n",
       "    </tr>\n",
       "    <tr>\n",
       "      <th>2</th>\n",
       "      <td>1231</td>\n",
       "      <td>90</td>\n",
       "      <td>70.0</td>\n",
       "      <td>18890</td>\n",
       "      <td>5</td>\n",
       "      <td>5</td>\n",
       "      <td>1977</td>\n",
       "      <td>1977</td>\n",
       "      <td>1.0</td>\n",
       "      <td>498</td>\n",
       "      <td>...</td>\n",
       "      <td>155</td>\n",
       "      <td>24</td>\n",
       "      <td>145</td>\n",
       "      <td>0</td>\n",
       "      <td>0</td>\n",
       "      <td>0</td>\n",
       "      <td>8300</td>\n",
       "      <td>8</td>\n",
       "      <td>2007</td>\n",
       "      <td>190000</td>\n",
       "    </tr>\n",
       "    <tr>\n",
       "      <th>3</th>\n",
       "      <td>553</td>\n",
       "      <td>20</td>\n",
       "      <td>87.0</td>\n",
       "      <td>11146</td>\n",
       "      <td>8</td>\n",
       "      <td>5</td>\n",
       "      <td>2006</td>\n",
       "      <td>2006</td>\n",
       "      <td>250.0</td>\n",
       "      <td>0</td>\n",
       "      <td>...</td>\n",
       "      <td>169</td>\n",
       "      <td>39</td>\n",
       "      <td>0</td>\n",
       "      <td>0</td>\n",
       "      <td>0</td>\n",
       "      <td>0</td>\n",
       "      <td>0</td>\n",
       "      <td>7</td>\n",
       "      <td>2009</td>\n",
       "      <td>255500</td>\n",
       "    </tr>\n",
       "    <tr>\n",
       "      <th>4</th>\n",
       "      <td>1445</td>\n",
       "      <td>20</td>\n",
       "      <td>63.0</td>\n",
       "      <td>8500</td>\n",
       "      <td>7</td>\n",
       "      <td>5</td>\n",
       "      <td>2004</td>\n",
       "      <td>2004</td>\n",
       "      <td>106.0</td>\n",
       "      <td>0</td>\n",
       "      <td>...</td>\n",
       "      <td>192</td>\n",
       "      <td>60</td>\n",
       "      <td>0</td>\n",
       "      <td>0</td>\n",
       "      <td>0</td>\n",
       "      <td>0</td>\n",
       "      <td>0</td>\n",
       "      <td>11</td>\n",
       "      <td>2007</td>\n",
       "      <td>179600</td>\n",
       "    </tr>\n",
       "    <tr>\n",
       "      <th>...</th>\n",
       "      <td>...</td>\n",
       "      <td>...</td>\n",
       "      <td>...</td>\n",
       "      <td>...</td>\n",
       "      <td>...</td>\n",
       "      <td>...</td>\n",
       "      <td>...</td>\n",
       "      <td>...</td>\n",
       "      <td>...</td>\n",
       "      <td>...</td>\n",
       "      <td>...</td>\n",
       "      <td>...</td>\n",
       "      <td>...</td>\n",
       "      <td>...</td>\n",
       "      <td>...</td>\n",
       "      <td>...</td>\n",
       "      <td>...</td>\n",
       "      <td>...</td>\n",
       "      <td>...</td>\n",
       "      <td>...</td>\n",
       "      <td>...</td>\n",
       "    </tr>\n",
       "    <tr>\n",
       "      <th>1195</th>\n",
       "      <td>1028</td>\n",
       "      <td>20</td>\n",
       "      <td>71.0</td>\n",
       "      <td>9520</td>\n",
       "      <td>8</td>\n",
       "      <td>5</td>\n",
       "      <td>2007</td>\n",
       "      <td>2008</td>\n",
       "      <td>338.0</td>\n",
       "      <td>1513</td>\n",
       "      <td>...</td>\n",
       "      <td>192</td>\n",
       "      <td>44</td>\n",
       "      <td>0</td>\n",
       "      <td>0</td>\n",
       "      <td>0</td>\n",
       "      <td>0</td>\n",
       "      <td>0</td>\n",
       "      <td>4</td>\n",
       "      <td>2008</td>\n",
       "      <td>293077</td>\n",
       "    </tr>\n",
       "    <tr>\n",
       "      <th>1196</th>\n",
       "      <td>872</td>\n",
       "      <td>60</td>\n",
       "      <td>70.0</td>\n",
       "      <td>8750</td>\n",
       "      <td>6</td>\n",
       "      <td>5</td>\n",
       "      <td>1998</td>\n",
       "      <td>1998</td>\n",
       "      <td>116.0</td>\n",
       "      <td>505</td>\n",
       "      <td>...</td>\n",
       "      <td>0</td>\n",
       "      <td>77</td>\n",
       "      <td>0</td>\n",
       "      <td>0</td>\n",
       "      <td>0</td>\n",
       "      <td>0</td>\n",
       "      <td>0</td>\n",
       "      <td>6</td>\n",
       "      <td>2010</td>\n",
       "      <td>200500</td>\n",
       "    </tr>\n",
       "    <tr>\n",
       "      <th>1197</th>\n",
       "      <td>561</td>\n",
       "      <td>20</td>\n",
       "      <td>70.0</td>\n",
       "      <td>11341</td>\n",
       "      <td>5</td>\n",
       "      <td>6</td>\n",
       "      <td>1957</td>\n",
       "      <td>1996</td>\n",
       "      <td>180.0</td>\n",
       "      <td>1302</td>\n",
       "      <td>...</td>\n",
       "      <td>0</td>\n",
       "      <td>0</td>\n",
       "      <td>0</td>\n",
       "      <td>0</td>\n",
       "      <td>95</td>\n",
       "      <td>0</td>\n",
       "      <td>0</td>\n",
       "      <td>5</td>\n",
       "      <td>2010</td>\n",
       "      <td>121500</td>\n",
       "    </tr>\n",
       "    <tr>\n",
       "      <th>1198</th>\n",
       "      <td>217</td>\n",
       "      <td>20</td>\n",
       "      <td>65.0</td>\n",
       "      <td>8450</td>\n",
       "      <td>7</td>\n",
       "      <td>5</td>\n",
       "      <td>2004</td>\n",
       "      <td>2004</td>\n",
       "      <td>266.0</td>\n",
       "      <td>946</td>\n",
       "      <td>...</td>\n",
       "      <td>139</td>\n",
       "      <td>98</td>\n",
       "      <td>0</td>\n",
       "      <td>0</td>\n",
       "      <td>0</td>\n",
       "      <td>0</td>\n",
       "      <td>0</td>\n",
       "      <td>4</td>\n",
       "      <td>2008</td>\n",
       "      <td>210000</td>\n",
       "    </tr>\n",
       "    <tr>\n",
       "      <th>1199</th>\n",
       "      <td>456</td>\n",
       "      <td>20</td>\n",
       "      <td>80.0</td>\n",
       "      <td>9600</td>\n",
       "      <td>7</td>\n",
       "      <td>6</td>\n",
       "      <td>1973</td>\n",
       "      <td>1973</td>\n",
       "      <td>320.0</td>\n",
       "      <td>916</td>\n",
       "      <td>...</td>\n",
       "      <td>0</td>\n",
       "      <td>0</td>\n",
       "      <td>0</td>\n",
       "      <td>0</td>\n",
       "      <td>0</td>\n",
       "      <td>0</td>\n",
       "      <td>0</td>\n",
       "      <td>9</td>\n",
       "      <td>2007</td>\n",
       "      <td>175500</td>\n",
       "    </tr>\n",
       "  </tbody>\n",
       "</table>\n",
       "<p>1181 rows × 38 columns</p>\n",
       "</div>"
      ],
      "text/plain": [
       "        Id  MSSubClass  LotFrontage  LotArea  OverallQual  OverallCond  \\\n",
       "0      952          20         60.0     7800            5            5   \n",
       "1      161          20         70.0    11120            6            6   \n",
       "2     1231          90         70.0    18890            5            5   \n",
       "3      553          20         87.0    11146            8            5   \n",
       "4     1445          20         63.0     8500            7            5   \n",
       "...    ...         ...          ...      ...          ...          ...   \n",
       "1195  1028          20         71.0     9520            8            5   \n",
       "1196   872          60         70.0     8750            6            5   \n",
       "1197   561          20         70.0    11341            5            6   \n",
       "1198   217          20         65.0     8450            7            5   \n",
       "1199   456          20         80.0     9600            7            6   \n",
       "\n",
       "      YearBuilt  YearRemodAdd  MasVnrArea  BsmtFinSF1  ...  WoodDeckSF  \\\n",
       "0          1965          1965         0.0         641  ...         421   \n",
       "1          1984          1984         0.0         660  ...           0   \n",
       "2          1977          1977         1.0         498  ...         155   \n",
       "3          2006          2006       250.0           0  ...         169   \n",
       "4          2004          2004       106.0           0  ...         192   \n",
       "...         ...           ...         ...         ...  ...         ...   \n",
       "1195       2007          2008       338.0        1513  ...         192   \n",
       "1196       1998          1998       116.0         505  ...           0   \n",
       "1197       1957          1996       180.0        1302  ...           0   \n",
       "1198       2004          2004       266.0         946  ...         139   \n",
       "1199       1973          1973       320.0         916  ...           0   \n",
       "\n",
       "      OpenPorchSF  EnclosedPorch  X3SsnPorch  ScreenPorch  PoolArea  MiscVal  \\\n",
       "0               0              0           0            0         0        0   \n",
       "1               0              0           0            0         0        0   \n",
       "2              24            145           0            0         0     8300   \n",
       "3              39              0           0            0         0        0   \n",
       "4              60              0           0            0         0        0   \n",
       "...           ...            ...         ...          ...       ...      ...   \n",
       "1195           44              0           0            0         0        0   \n",
       "1196           77              0           0            0         0        0   \n",
       "1197            0              0           0           95         0        0   \n",
       "1198           98              0           0            0         0        0   \n",
       "1199            0              0           0            0         0        0   \n",
       "\n",
       "      MoSold  YrSold  SalePrice  \n",
       "0          7    2006     119900  \n",
       "1          6    2008     162500  \n",
       "2          8    2007     190000  \n",
       "3          7    2009     255500  \n",
       "4         11    2007     179600  \n",
       "...      ...     ...        ...  \n",
       "1195       4    2008     293077  \n",
       "1196       6    2010     200500  \n",
       "1197       5    2010     121500  \n",
       "1198       4    2008     210000  \n",
       "1199       9    2007     175500  \n",
       "\n",
       "[1181 rows x 38 columns]"
      ]
     },
     "execution_count": 24,
     "metadata": {},
     "output_type": "execute_result"
    }
   ],
   "source": [
    "X = df3.drop('SalePrice',axis=1)#Feature Matrix\n",
    "X = StandardScaler().fit_transform(X) #normalizing the feature\n",
    "y = df3.loc[:,\"SalePrice\"]          #Target Variable\n",
    "df3"
   ]
  },
  {
   "cell_type": "code",
   "execution_count": 25,
   "metadata": {},
   "outputs": [
    {
     "data": {
      "text/html": [
       "<div>\n",
       "<style scoped>\n",
       "    .dataframe tbody tr th:only-of-type {\n",
       "        vertical-align: middle;\n",
       "    }\n",
       "\n",
       "    .dataframe tbody tr th {\n",
       "        vertical-align: top;\n",
       "    }\n",
       "\n",
       "    .dataframe thead th {\n",
       "        text-align: right;\n",
       "    }\n",
       "</style>\n",
       "<table border=\"1\" class=\"dataframe\">\n",
       "  <thead>\n",
       "    <tr style=\"text-align: right;\">\n",
       "      <th></th>\n",
       "      <th>feature0</th>\n",
       "      <th>feature1</th>\n",
       "      <th>feature2</th>\n",
       "      <th>feature3</th>\n",
       "      <th>feature4</th>\n",
       "      <th>feature5</th>\n",
       "      <th>feature6</th>\n",
       "      <th>feature7</th>\n",
       "      <th>feature8</th>\n",
       "      <th>feature9</th>\n",
       "      <th>...</th>\n",
       "      <th>feature27</th>\n",
       "      <th>feature28</th>\n",
       "      <th>feature29</th>\n",
       "      <th>feature30</th>\n",
       "      <th>feature31</th>\n",
       "      <th>feature32</th>\n",
       "      <th>feature33</th>\n",
       "      <th>feature34</th>\n",
       "      <th>feature35</th>\n",
       "      <th>feature36</th>\n",
       "    </tr>\n",
       "  </thead>\n",
       "  <tbody>\n",
       "    <tr>\n",
       "      <th>0</th>\n",
       "      <td>0.527557</td>\n",
       "      <td>-0.863508</td>\n",
       "      <td>-0.452876</td>\n",
       "      <td>-0.257085</td>\n",
       "      <td>-0.795064</td>\n",
       "      <td>-0.520420</td>\n",
       "      <td>-0.195627</td>\n",
       "      <td>-0.939616</td>\n",
       "      <td>-0.573943</td>\n",
       "      <td>0.480147</td>\n",
       "      <td>...</td>\n",
       "      <td>-0.797319</td>\n",
       "      <td>2.737053</td>\n",
       "      <td>-0.701149</td>\n",
       "      <td>-0.358163</td>\n",
       "      <td>-0.117115</td>\n",
       "      <td>-0.267733</td>\n",
       "      <td>-0.064401</td>\n",
       "      <td>-0.107772</td>\n",
       "      <td>0.257281</td>\n",
       "      <td>-1.364308</td>\n",
       "    </tr>\n",
       "    <tr>\n",
       "      <th>1</th>\n",
       "      <td>-1.352722</td>\n",
       "      <td>-0.863508</td>\n",
       "      <td>-0.004968</td>\n",
       "      <td>0.070516</td>\n",
       "      <td>-0.038440</td>\n",
       "      <td>0.387432</td>\n",
       "      <td>0.439086</td>\n",
       "      <td>-0.021441</td>\n",
       "      <td>-0.573943</td>\n",
       "      <td>0.522837</td>\n",
       "      <td>...</td>\n",
       "      <td>0.216745</td>\n",
       "      <td>-0.743377</td>\n",
       "      <td>-0.701149</td>\n",
       "      <td>-0.358163</td>\n",
       "      <td>-0.117115</td>\n",
       "      <td>-0.267733</td>\n",
       "      <td>-0.064401</td>\n",
       "      <td>-0.107772</td>\n",
       "      <td>-0.112815</td>\n",
       "      <td>0.147891</td>\n",
       "    </tr>\n",
       "    <tr>\n",
       "      <th>2</th>\n",
       "      <td>1.190766</td>\n",
       "      <td>0.783613</td>\n",
       "      <td>-0.004968</td>\n",
       "      <td>0.837220</td>\n",
       "      <td>-0.795064</td>\n",
       "      <td>-0.520420</td>\n",
       "      <td>0.205244</td>\n",
       "      <td>-0.359716</td>\n",
       "      <td>-0.567751</td>\n",
       "      <td>0.158845</td>\n",
       "      <td>...</td>\n",
       "      <td>0.611103</td>\n",
       "      <td>0.538016</td>\n",
       "      <td>-0.330350</td>\n",
       "      <td>1.955702</td>\n",
       "      <td>-0.117115</td>\n",
       "      <td>-0.267733</td>\n",
       "      <td>-0.064401</td>\n",
       "      <td>27.250627</td>\n",
       "      <td>0.627377</td>\n",
       "      <td>-0.608209</td>\n",
       "    </tr>\n",
       "    <tr>\n",
       "      <th>3</th>\n",
       "      <td>-0.420902</td>\n",
       "      <td>-0.863508</td>\n",
       "      <td>0.756474</td>\n",
       "      <td>0.073081</td>\n",
       "      <td>1.474809</td>\n",
       "      <td>-0.520420</td>\n",
       "      <td>1.174016</td>\n",
       "      <td>1.041708</td>\n",
       "      <td>0.974130</td>\n",
       "      <td>-0.960096</td>\n",
       "      <td>...</td>\n",
       "      <td>2.057083</td>\n",
       "      <td>0.653755</td>\n",
       "      <td>-0.098600</td>\n",
       "      <td>-0.358163</td>\n",
       "      <td>-0.117115</td>\n",
       "      <td>-0.267733</td>\n",
       "      <td>-0.064401</td>\n",
       "      <td>-0.107772</td>\n",
       "      <td>0.257281</td>\n",
       "      <td>0.903990</td>\n",
       "    </tr>\n",
       "    <tr>\n",
       "      <th>4</th>\n",
       "      <td>1.699463</td>\n",
       "      <td>-0.863508</td>\n",
       "      <td>-0.318503</td>\n",
       "      <td>-0.188012</td>\n",
       "      <td>0.718185</td>\n",
       "      <td>-0.520420</td>\n",
       "      <td>1.107204</td>\n",
       "      <td>0.945058</td>\n",
       "      <td>0.082440</td>\n",
       "      <td>-0.960096</td>\n",
       "      <td>...</td>\n",
       "      <td>0.733166</td>\n",
       "      <td>0.843897</td>\n",
       "      <td>0.225850</td>\n",
       "      <td>-0.358163</td>\n",
       "      <td>-0.117115</td>\n",
       "      <td>-0.267733</td>\n",
       "      <td>-0.064401</td>\n",
       "      <td>-0.107772</td>\n",
       "      <td>1.737665</td>\n",
       "      <td>-0.608209</td>\n",
       "    </tr>\n",
       "    <tr>\n",
       "      <th>...</th>\n",
       "      <td>...</td>\n",
       "      <td>...</td>\n",
       "      <td>...</td>\n",
       "      <td>...</td>\n",
       "      <td>...</td>\n",
       "      <td>...</td>\n",
       "      <td>...</td>\n",
       "      <td>...</td>\n",
       "      <td>...</td>\n",
       "      <td>...</td>\n",
       "      <td>...</td>\n",
       "      <td>...</td>\n",
       "      <td>...</td>\n",
       "      <td>...</td>\n",
       "      <td>...</td>\n",
       "      <td>...</td>\n",
       "      <td>...</td>\n",
       "      <td>...</td>\n",
       "      <td>...</td>\n",
       "      <td>...</td>\n",
       "      <td>...</td>\n",
       "    </tr>\n",
       "    <tr>\n",
       "      <th>1176</th>\n",
       "      <td>0.708216</td>\n",
       "      <td>-0.863508</td>\n",
       "      <td>0.039822</td>\n",
       "      <td>-0.087364</td>\n",
       "      <td>1.474809</td>\n",
       "      <td>-0.520420</td>\n",
       "      <td>1.207422</td>\n",
       "      <td>1.138358</td>\n",
       "      <td>1.519051</td>\n",
       "      <td>2.439415</td>\n",
       "      <td>...</td>\n",
       "      <td>1.550051</td>\n",
       "      <td>0.843897</td>\n",
       "      <td>-0.021350</td>\n",
       "      <td>-0.358163</td>\n",
       "      <td>-0.117115</td>\n",
       "      <td>-0.267733</td>\n",
       "      <td>-0.064401</td>\n",
       "      <td>-0.107772</td>\n",
       "      <td>-0.853007</td>\n",
       "      <td>0.147891</td>\n",
       "    </tr>\n",
       "    <tr>\n",
       "      <th>1177</th>\n",
       "      <td>0.337390</td>\n",
       "      <td>0.077704</td>\n",
       "      <td>-0.004968</td>\n",
       "      <td>-0.163344</td>\n",
       "      <td>-0.038440</td>\n",
       "      <td>-0.520420</td>\n",
       "      <td>0.906769</td>\n",
       "      <td>0.655109</td>\n",
       "      <td>0.144363</td>\n",
       "      <td>0.174573</td>\n",
       "      <td>...</td>\n",
       "      <td>0.249608</td>\n",
       "      <td>-0.743377</td>\n",
       "      <td>0.488499</td>\n",
       "      <td>-0.358163</td>\n",
       "      <td>-0.117115</td>\n",
       "      <td>-0.267733</td>\n",
       "      <td>-0.064401</td>\n",
       "      <td>-0.107772</td>\n",
       "      <td>-0.112815</td>\n",
       "      <td>1.660090</td>\n",
       "    </tr>\n",
       "    <tr>\n",
       "      <th>1178</th>\n",
       "      <td>-0.401885</td>\n",
       "      <td>-0.863508</td>\n",
       "      <td>-0.004968</td>\n",
       "      <td>0.092323</td>\n",
       "      <td>-0.795064</td>\n",
       "      <td>0.387432</td>\n",
       "      <td>-0.462874</td>\n",
       "      <td>0.558459</td>\n",
       "      <td>0.540669</td>\n",
       "      <td>1.965326</td>\n",
       "      <td>...</td>\n",
       "      <td>0.273082</td>\n",
       "      <td>-0.743377</td>\n",
       "      <td>-0.701149</td>\n",
       "      <td>-0.358163</td>\n",
       "      <td>-0.117115</td>\n",
       "      <td>1.559635</td>\n",
       "      <td>-0.064401</td>\n",
       "      <td>-0.107772</td>\n",
       "      <td>-0.482911</td>\n",
       "      <td>1.660090</td>\n",
       "    </tr>\n",
       "    <tr>\n",
       "      <th>1179</th>\n",
       "      <td>-1.219605</td>\n",
       "      <td>-0.863508</td>\n",
       "      <td>-0.228922</td>\n",
       "      <td>-0.192946</td>\n",
       "      <td>0.718185</td>\n",
       "      <td>-0.520420</td>\n",
       "      <td>1.107204</td>\n",
       "      <td>0.945058</td>\n",
       "      <td>1.073206</td>\n",
       "      <td>1.165441</td>\n",
       "      <td>...</td>\n",
       "      <td>0.066513</td>\n",
       "      <td>0.405744</td>\n",
       "      <td>0.812949</td>\n",
       "      <td>-0.358163</td>\n",
       "      <td>-0.117115</td>\n",
       "      <td>-0.267733</td>\n",
       "      <td>-0.064401</td>\n",
       "      <td>-0.107772</td>\n",
       "      <td>-0.853007</td>\n",
       "      <td>0.147891</td>\n",
       "    </tr>\n",
       "    <tr>\n",
       "      <th>1180</th>\n",
       "      <td>-0.651480</td>\n",
       "      <td>-0.863508</td>\n",
       "      <td>0.442939</td>\n",
       "      <td>-0.079470</td>\n",
       "      <td>0.718185</td>\n",
       "      <td>0.387432</td>\n",
       "      <td>0.071620</td>\n",
       "      <td>-0.553016</td>\n",
       "      <td>1.407590</td>\n",
       "      <td>1.098035</td>\n",
       "      <td>...</td>\n",
       "      <td>0.273082</td>\n",
       "      <td>-0.743377</td>\n",
       "      <td>-0.701149</td>\n",
       "      <td>-0.358163</td>\n",
       "      <td>-0.117115</td>\n",
       "      <td>-0.267733</td>\n",
       "      <td>-0.064401</td>\n",
       "      <td>-0.107772</td>\n",
       "      <td>0.997473</td>\n",
       "      <td>-0.608209</td>\n",
       "    </tr>\n",
       "  </tbody>\n",
       "</table>\n",
       "<p>1181 rows × 37 columns</p>\n",
       "</div>"
      ],
      "text/plain": [
       "      feature0  feature1  feature2  feature3  feature4  feature5  feature6  \\\n",
       "0     0.527557 -0.863508 -0.452876 -0.257085 -0.795064 -0.520420 -0.195627   \n",
       "1    -1.352722 -0.863508 -0.004968  0.070516 -0.038440  0.387432  0.439086   \n",
       "2     1.190766  0.783613 -0.004968  0.837220 -0.795064 -0.520420  0.205244   \n",
       "3    -0.420902 -0.863508  0.756474  0.073081  1.474809 -0.520420  1.174016   \n",
       "4     1.699463 -0.863508 -0.318503 -0.188012  0.718185 -0.520420  1.107204   \n",
       "...        ...       ...       ...       ...       ...       ...       ...   \n",
       "1176  0.708216 -0.863508  0.039822 -0.087364  1.474809 -0.520420  1.207422   \n",
       "1177  0.337390  0.077704 -0.004968 -0.163344 -0.038440 -0.520420  0.906769   \n",
       "1178 -0.401885 -0.863508 -0.004968  0.092323 -0.795064  0.387432 -0.462874   \n",
       "1179 -1.219605 -0.863508 -0.228922 -0.192946  0.718185 -0.520420  1.107204   \n",
       "1180 -0.651480 -0.863508  0.442939 -0.079470  0.718185  0.387432  0.071620   \n",
       "\n",
       "      feature7  feature8  feature9  ...  feature27  feature28  feature29  \\\n",
       "0    -0.939616 -0.573943  0.480147  ...  -0.797319   2.737053  -0.701149   \n",
       "1    -0.021441 -0.573943  0.522837  ...   0.216745  -0.743377  -0.701149   \n",
       "2    -0.359716 -0.567751  0.158845  ...   0.611103   0.538016  -0.330350   \n",
       "3     1.041708  0.974130 -0.960096  ...   2.057083   0.653755  -0.098600   \n",
       "4     0.945058  0.082440 -0.960096  ...   0.733166   0.843897   0.225850   \n",
       "...        ...       ...       ...  ...        ...        ...        ...   \n",
       "1176  1.138358  1.519051  2.439415  ...   1.550051   0.843897  -0.021350   \n",
       "1177  0.655109  0.144363  0.174573  ...   0.249608  -0.743377   0.488499   \n",
       "1178  0.558459  0.540669  1.965326  ...   0.273082  -0.743377  -0.701149   \n",
       "1179  0.945058  1.073206  1.165441  ...   0.066513   0.405744   0.812949   \n",
       "1180 -0.553016  1.407590  1.098035  ...   0.273082  -0.743377  -0.701149   \n",
       "\n",
       "      feature30  feature31  feature32  feature33  feature34  feature35  \\\n",
       "0     -0.358163  -0.117115  -0.267733  -0.064401  -0.107772   0.257281   \n",
       "1     -0.358163  -0.117115  -0.267733  -0.064401  -0.107772  -0.112815   \n",
       "2      1.955702  -0.117115  -0.267733  -0.064401  27.250627   0.627377   \n",
       "3     -0.358163  -0.117115  -0.267733  -0.064401  -0.107772   0.257281   \n",
       "4     -0.358163  -0.117115  -0.267733  -0.064401  -0.107772   1.737665   \n",
       "...         ...        ...        ...        ...        ...        ...   \n",
       "1176  -0.358163  -0.117115  -0.267733  -0.064401  -0.107772  -0.853007   \n",
       "1177  -0.358163  -0.117115  -0.267733  -0.064401  -0.107772  -0.112815   \n",
       "1178  -0.358163  -0.117115   1.559635  -0.064401  -0.107772  -0.482911   \n",
       "1179  -0.358163  -0.117115  -0.267733  -0.064401  -0.107772  -0.853007   \n",
       "1180  -0.358163  -0.117115  -0.267733  -0.064401  -0.107772   0.997473   \n",
       "\n",
       "      feature36  \n",
       "0     -1.364308  \n",
       "1      0.147891  \n",
       "2     -0.608209  \n",
       "3      0.903990  \n",
       "4     -0.608209  \n",
       "...         ...  \n",
       "1176   0.147891  \n",
       "1177   1.660090  \n",
       "1178   1.660090  \n",
       "1179   0.147891  \n",
       "1180  -0.608209  \n",
       "\n",
       "[1181 rows x 37 columns]"
      ]
     },
     "execution_count": 25,
     "metadata": {},
     "output_type": "execute_result"
    }
   ],
   "source": [
    "feat_cols = ['feature'+str(i) for i in range(X.shape[1])]\n",
    "normalised_housing = pd.DataFrame(X, columns = feat_cols)\n",
    "normalised_housing"
   ]
  },
  {
   "cell_type": "code",
   "execution_count": 26,
   "metadata": {},
   "outputs": [
    {
     "data": {
      "image/png": "[encoded data removed]",
      "text/plain": [
       "<Figure size 432x288 with 1 Axes>"
      ]
     },
     "metadata": {
      "needs_background": "light"
     },
     "output_type": "display_data"
    },
    {
     "data": {
      "text/plain": [
       "None"
      ]
     },
     "metadata": {},
     "output_type": "display_data"
    },
    {
     "data": {
      "text/html": [
       "<div>\n",
       "<style scoped>\n",
       "    .dataframe tbody tr th:only-of-type {\n",
       "        vertical-align: middle;\n",
       "    }\n",
       "\n",
       "    .dataframe tbody tr th {\n",
       "        vertical-align: top;\n",
       "    }\n",
       "\n",
       "    .dataframe thead th {\n",
       "        text-align: right;\n",
       "    }\n",
       "</style>\n",
       "<table border=\"1\" class=\"dataframe\">\n",
       "  <thead>\n",
       "    <tr style=\"text-align: right;\">\n",
       "      <th></th>\n",
       "      <th>Cumulative Variance Ratio</th>\n",
       "      <th>Explained Variance Ratio</th>\n",
       "    </tr>\n",
       "  </thead>\n",
       "  <tbody>\n",
       "    <tr>\n",
       "      <th>0</th>\n",
       "      <td>0.182993</td>\n",
       "      <td>1.829928e-01</td>\n",
       "    </tr>\n",
       "    <tr>\n",
       "      <th>1</th>\n",
       "      <td>0.270324</td>\n",
       "      <td>8.733096e-02</td>\n",
       "    </tr>\n",
       "    <tr>\n",
       "      <th>2</th>\n",
       "      <td>0.340720</td>\n",
       "      <td>7.039585e-02</td>\n",
       "    </tr>\n",
       "    <tr>\n",
       "      <th>3</th>\n",
       "      <td>0.396761</td>\n",
       "      <td>5.604134e-02</td>\n",
       "    </tr>\n",
       "    <tr>\n",
       "      <th>4</th>\n",
       "      <td>0.437777</td>\n",
       "      <td>4.101616e-02</td>\n",
       "    </tr>\n",
       "    <tr>\n",
       "      <th>5</th>\n",
       "      <td>0.471603</td>\n",
       "      <td>3.382549e-02</td>\n",
       "    </tr>\n",
       "    <tr>\n",
       "      <th>6</th>\n",
       "      <td>0.503539</td>\n",
       "      <td>3.193682e-02</td>\n",
       "    </tr>\n",
       "    <tr>\n",
       "      <th>7</th>\n",
       "      <td>0.534887</td>\n",
       "      <td>3.134789e-02</td>\n",
       "    </tr>\n",
       "    <tr>\n",
       "      <th>8</th>\n",
       "      <td>0.565298</td>\n",
       "      <td>3.041080e-02</td>\n",
       "    </tr>\n",
       "    <tr>\n",
       "      <th>9</th>\n",
       "      <td>0.594753</td>\n",
       "      <td>2.945441e-02</td>\n",
       "    </tr>\n",
       "    <tr>\n",
       "      <th>10</th>\n",
       "      <td>0.623515</td>\n",
       "      <td>2.876290e-02</td>\n",
       "    </tr>\n",
       "    <tr>\n",
       "      <th>11</th>\n",
       "      <td>0.651708</td>\n",
       "      <td>2.819227e-02</td>\n",
       "    </tr>\n",
       "    <tr>\n",
       "      <th>12</th>\n",
       "      <td>0.679580</td>\n",
       "      <td>2.787263e-02</td>\n",
       "    </tr>\n",
       "    <tr>\n",
       "      <th>13</th>\n",
       "      <td>0.705693</td>\n",
       "      <td>2.611240e-02</td>\n",
       "    </tr>\n",
       "    <tr>\n",
       "      <th>14</th>\n",
       "      <td>0.731694</td>\n",
       "      <td>2.600110e-02</td>\n",
       "    </tr>\n",
       "    <tr>\n",
       "      <th>15</th>\n",
       "      <td>0.756165</td>\n",
       "      <td>2.447163e-02</td>\n",
       "    </tr>\n",
       "    <tr>\n",
       "      <th>16</th>\n",
       "      <td>0.780299</td>\n",
       "      <td>2.413344e-02</td>\n",
       "    </tr>\n",
       "    <tr>\n",
       "      <th>17</th>\n",
       "      <td>0.803081</td>\n",
       "      <td>2.278182e-02</td>\n",
       "    </tr>\n",
       "    <tr>\n",
       "      <th>18</th>\n",
       "      <td>0.825075</td>\n",
       "      <td>2.199440e-02</td>\n",
       "    </tr>\n",
       "    <tr>\n",
       "      <th>19</th>\n",
       "      <td>0.846171</td>\n",
       "      <td>2.109568e-02</td>\n",
       "    </tr>\n",
       "    <tr>\n",
       "      <th>20</th>\n",
       "      <td>0.866291</td>\n",
       "      <td>2.012071e-02</td>\n",
       "    </tr>\n",
       "    <tr>\n",
       "      <th>21</th>\n",
       "      <td>0.884609</td>\n",
       "      <td>1.831749e-02</td>\n",
       "    </tr>\n",
       "    <tr>\n",
       "      <th>22</th>\n",
       "      <td>0.901211</td>\n",
       "      <td>1.660247e-02</td>\n",
       "    </tr>\n",
       "    <tr>\n",
       "      <th>23</th>\n",
       "      <td>0.916560</td>\n",
       "      <td>1.534847e-02</td>\n",
       "    </tr>\n",
       "    <tr>\n",
       "      <th>24</th>\n",
       "      <td>0.930986</td>\n",
       "      <td>1.442643e-02</td>\n",
       "    </tr>\n",
       "    <tr>\n",
       "      <th>25</th>\n",
       "      <td>0.942877</td>\n",
       "      <td>1.189077e-02</td>\n",
       "    </tr>\n",
       "    <tr>\n",
       "      <th>26</th>\n",
       "      <td>0.953343</td>\n",
       "      <td>1.046559e-02</td>\n",
       "    </tr>\n",
       "    <tr>\n",
       "      <th>27</th>\n",
       "      <td>0.962118</td>\n",
       "      <td>8.775500e-03</td>\n",
       "    </tr>\n",
       "    <tr>\n",
       "      <th>28</th>\n",
       "      <td>0.970177</td>\n",
       "      <td>8.058395e-03</td>\n",
       "    </tr>\n",
       "    <tr>\n",
       "      <th>29</th>\n",
       "      <td>0.977522</td>\n",
       "      <td>7.345329e-03</td>\n",
       "    </tr>\n",
       "    <tr>\n",
       "      <th>30</th>\n",
       "      <td>0.984516</td>\n",
       "      <td>6.994146e-03</td>\n",
       "    </tr>\n",
       "    <tr>\n",
       "      <th>31</th>\n",
       "      <td>0.989895</td>\n",
       "      <td>5.378546e-03</td>\n",
       "    </tr>\n",
       "    <tr>\n",
       "      <th>32</th>\n",
       "      <td>0.993871</td>\n",
       "      <td>3.976529e-03</td>\n",
       "    </tr>\n",
       "    <tr>\n",
       "      <th>33</th>\n",
       "      <td>0.997273</td>\n",
       "      <td>3.402321e-03</td>\n",
       "    </tr>\n",
       "    <tr>\n",
       "      <th>34</th>\n",
       "      <td>1.000000</td>\n",
       "      <td>2.726533e-03</td>\n",
       "    </tr>\n",
       "    <tr>\n",
       "      <th>35</th>\n",
       "      <td>1.000000</td>\n",
       "      <td>3.608896e-32</td>\n",
       "    </tr>\n",
       "    <tr>\n",
       "      <th>36</th>\n",
       "      <td>1.000000</td>\n",
       "      <td>5.637253e-33</td>\n",
       "    </tr>\n",
       "  </tbody>\n",
       "</table>\n",
       "</div>"
      ],
      "text/plain": [
       "    Cumulative Variance Ratio  Explained Variance Ratio\n",
       "0                    0.182993              1.829928e-01\n",
       "1                    0.270324              8.733096e-02\n",
       "2                    0.340720              7.039585e-02\n",
       "3                    0.396761              5.604134e-02\n",
       "4                    0.437777              4.101616e-02\n",
       "5                    0.471603              3.382549e-02\n",
       "6                    0.503539              3.193682e-02\n",
       "7                    0.534887              3.134789e-02\n",
       "8                    0.565298              3.041080e-02\n",
       "9                    0.594753              2.945441e-02\n",
       "10                   0.623515              2.876290e-02\n",
       "11                   0.651708              2.819227e-02\n",
       "12                   0.679580              2.787263e-02\n",
       "13                   0.705693              2.611240e-02\n",
       "14                   0.731694              2.600110e-02\n",
       "15                   0.756165              2.447163e-02\n",
       "16                   0.780299              2.413344e-02\n",
       "17                   0.803081              2.278182e-02\n",
       "18                   0.825075              2.199440e-02\n",
       "19                   0.846171              2.109568e-02\n",
       "20                   0.866291              2.012071e-02\n",
       "21                   0.884609              1.831749e-02\n",
       "22                   0.901211              1.660247e-02\n",
       "23                   0.916560              1.534847e-02\n",
       "24                   0.930986              1.442643e-02\n",
       "25                   0.942877              1.189077e-02\n",
       "26                   0.953343              1.046559e-02\n",
       "27                   0.962118              8.775500e-03\n",
       "28                   0.970177              8.058395e-03\n",
       "29                   0.977522              7.345329e-03\n",
       "30                   0.984516              6.994146e-03\n",
       "31                   0.989895              5.378546e-03\n",
       "32                   0.993871              3.976529e-03\n",
       "33                   0.997273              3.402321e-03\n",
       "34                   1.000000              2.726533e-03\n",
       "35                   1.000000              3.608896e-32\n",
       "36                   1.000000              5.637253e-33"
      ]
     },
     "metadata": {},
     "output_type": "display_data"
    }
   ],
   "source": [
    "pca = PCA().fit(normalised_housing)\n",
    "plt.plot(np.cumsum(pca.explained_variance_ratio_))\n",
    "plt.xlabel('number of components')\n",
    "plt.ylabel('cumulative explained variance')\n",
    "plt.axvline(linewidth=4, color='g',linestyle= \"--\", x = 30, ymin = 0, ymax=1)\n",
    "display(plt.show())\n",
    "\n",
    "evr = pca.explained_variance_ratio_\n",
    "cvr = np.cumsum(pca.explained_variance_ratio_)\n",
    "pca_df = pd.DataFrame()\n",
    "pca_df['Cumulative Variance Ratio'] = cvr\n",
    "pca_df['Explained Variance Ratio'] = evr\n",
    "display(pca_df)"
   ]
  },
  {
   "cell_type": "markdown",
   "metadata": {},
   "source": [
    "If we take 30 components, we can still explain over 98% of the variance. The rest of the components explain less than 2% of the variance. So we will cut them."
   ]
  },
  {
   "cell_type": "code",
   "execution_count": 27,
   "metadata": {},
   "outputs": [],
   "source": [
    "pca = PCA(n_components = 30)\n",
    "pca.fit(normalised_housing)\n",
    "normal_pca = pca.transform(normalised_housing)"
   ]
  },
  {
   "cell_type": "code",
   "execution_count": 28,
   "metadata": {},
   "outputs": [
    {
     "name": "stdout",
     "output_type": "stream",
     "text": [
      "Shape of the old dataframe  (1181, 37)\n",
      "Shape of the reduced dataframe  (1181, 30)\n"
     ]
    }
   ],
   "source": [
    "print(\"Shape of the old dataframe \", normalised_housing.shape)\n",
    "print(\"Shape of the reduced dataframe \", normal_pca.shape)"
   ]
  },
  {
   "cell_type": "raw",
   "metadata": {},
   "source": [
    "Thus, we have succesfully reduced the number of components of our dataframe from 37 to 30. We will be proceeding to the next module with this dataset in order to perform the further analysis."
   ]
  },
  {
   "cell_type": "markdown",
   "metadata": {},
   "source": [
    "### Module 4: Regression and Prediction\n",
    "Choose three regression methods and build regression models based on data from `housing_train.csv`, using 5-fold cross-validation. <br>\n",
    "\n",
    "Further, load `housing_test.csv` and use it as the test dataset to evaluate your models and compare their performance. Consider visualizing the results, and evaluate the results using metrics such as the mean squared error. Which houses have the worst prediction and what are their characteristics? <br>\n",
    "\n",
    "Note: we don't deduct points based on accuracy, as long as the models can be fitted correctly and the results are reasonable. However, if the model is wrong and does not yield meaningful and interpretable results, or if the results are interpreted incorrectly and wrong conclusions are drawn, points will be deducted.  "
   ]
  },
  {
   "cell_type": "code",
   "execution_count": 29,
   "metadata": {},
   "outputs": [],
   "source": [
    "from sklearn.linear_model import LinearRegression\n",
    "from sklearn.model_selection import KFold\n",
    "from sklearn.model_selection import cross_val_score\n",
    "\n",
    "from sklearn.model_selection import train_test_split\n",
    "from sklearn.metrics import accuracy_score\n",
    "from sklearn import metrics"
   ]
  },
  {
   "cell_type": "markdown",
   "metadata": {},
   "source": [
    "In order to build the regression models, we need to train our models using the housing_training.csv dataset. For that, we are first going to split our training dataset into test and train and perform cross validation.  "
   ]
  },
  {
   "cell_type": "code",
   "execution_count": 30,
   "metadata": {},
   "outputs": [
    {
     "name": "stdout",
     "output_type": "stream",
     "text": [
      "(944, 37)\n",
      "(944,)\n",
      "(237, 37)\n",
      "(237,)\n"
     ]
    }
   ],
   "source": [
    "X1 = df3.drop('SalePrice',axis=1)\n",
    "Xtrain, Xtest, ytrain, ytest = train_test_split(X1, y, test_size = 0.2, random_state = 0)\n",
    "print(Xtrain.shape)\n",
    "print(ytrain.shape)\n",
    "print(Xtest.shape)\n",
    "print(ytest.shape)"
   ]
  },
  {
   "cell_type": "markdown",
   "metadata": {},
   "source": [
    "The first regression model will be using the 'Simple Linear Regression' method. We are going to train the model first using our training dataset."
   ]
  },
  {
   "cell_type": "code",
   "execution_count": 31,
   "metadata": {},
   "outputs": [
    {
     "name": "stdout",
     "output_type": "stream",
     "text": [
      "[0.71664699 0.63978543 0.83713858 0.75594501 0.84248407]\n"
     ]
    }
   ],
   "source": [
    "from sklearn import datasets, linear_model, metrics\n",
    "reg_model = LinearRegression()\n",
    "reg_model.fit(Xtrain, ytrain)\n",
    "print(cross_val_score(reg_model, X, y))\n"
   ]
  },
  {
   "cell_type": "code",
   "execution_count": 32,
   "metadata": {},
   "outputs": [
    {
     "data": {
      "text/html": [
       "<div>\n",
       "<style scoped>\n",
       "    .dataframe tbody tr th:only-of-type {\n",
       "        vertical-align: middle;\n",
       "    }\n",
       "\n",
       "    .dataframe tbody tr th {\n",
       "        vertical-align: top;\n",
       "    }\n",
       "\n",
       "    .dataframe thead th {\n",
       "        text-align: right;\n",
       "    }\n",
       "</style>\n",
       "<table border=\"1\" class=\"dataframe\">\n",
       "  <thead>\n",
       "    <tr style=\"text-align: right;\">\n",
       "      <th></th>\n",
       "      <th>Id</th>\n",
       "      <th>MSSubClass</th>\n",
       "      <th>LotFrontage</th>\n",
       "      <th>LotArea</th>\n",
       "      <th>OverallQual</th>\n",
       "      <th>OverallCond</th>\n",
       "      <th>YearBuilt</th>\n",
       "      <th>YearRemodAdd</th>\n",
       "      <th>MasVnrArea</th>\n",
       "      <th>BsmtFinSF1</th>\n",
       "      <th>...</th>\n",
       "      <th>WoodDeckSF</th>\n",
       "      <th>OpenPorchSF</th>\n",
       "      <th>EnclosedPorch</th>\n",
       "      <th>X3SsnPorch</th>\n",
       "      <th>ScreenPorch</th>\n",
       "      <th>PoolArea</th>\n",
       "      <th>MiscVal</th>\n",
       "      <th>MoSold</th>\n",
       "      <th>YrSold</th>\n",
       "      <th>SalePrice</th>\n",
       "    </tr>\n",
       "  </thead>\n",
       "  <tbody>\n",
       "    <tr>\n",
       "      <th>0</th>\n",
       "      <td>664</td>\n",
       "      <td>85</td>\n",
       "      <td>60.0</td>\n",
       "      <td>10012</td>\n",
       "      <td>4</td>\n",
       "      <td>5</td>\n",
       "      <td>1972</td>\n",
       "      <td>1972</td>\n",
       "      <td>0.0</td>\n",
       "      <td>920</td>\n",
       "      <td>...</td>\n",
       "      <td>0</td>\n",
       "      <td>0</td>\n",
       "      <td>180</td>\n",
       "      <td>0</td>\n",
       "      <td>0</td>\n",
       "      <td>0</td>\n",
       "      <td>0</td>\n",
       "      <td>4</td>\n",
       "      <td>2008</td>\n",
       "      <td>137500</td>\n",
       "    </tr>\n",
       "    <tr>\n",
       "      <th>1</th>\n",
       "      <td>347</td>\n",
       "      <td>20</td>\n",
       "      <td>70.0</td>\n",
       "      <td>12772</td>\n",
       "      <td>6</td>\n",
       "      <td>8</td>\n",
       "      <td>1960</td>\n",
       "      <td>1998</td>\n",
       "      <td>0.0</td>\n",
       "      <td>498</td>\n",
       "      <td>...</td>\n",
       "      <td>0</td>\n",
       "      <td>0</td>\n",
       "      <td>0</td>\n",
       "      <td>0</td>\n",
       "      <td>0</td>\n",
       "      <td>0</td>\n",
       "      <td>15500</td>\n",
       "      <td>4</td>\n",
       "      <td>2007</td>\n",
       "      <td>151500</td>\n",
       "    </tr>\n",
       "    <tr>\n",
       "      <th>2</th>\n",
       "      <td>1333</td>\n",
       "      <td>20</td>\n",
       "      <td>70.0</td>\n",
       "      <td>8877</td>\n",
       "      <td>4</td>\n",
       "      <td>6</td>\n",
       "      <td>1938</td>\n",
       "      <td>1958</td>\n",
       "      <td>1.0</td>\n",
       "      <td>690</td>\n",
       "      <td>...</td>\n",
       "      <td>0</td>\n",
       "      <td>0</td>\n",
       "      <td>0</td>\n",
       "      <td>0</td>\n",
       "      <td>0</td>\n",
       "      <td>0</td>\n",
       "      <td>0</td>\n",
       "      <td>5</td>\n",
       "      <td>2009</td>\n",
       "      <td>100000</td>\n",
       "    </tr>\n",
       "    <tr>\n",
       "      <th>3</th>\n",
       "      <td>1432</td>\n",
       "      <td>120</td>\n",
       "      <td>87.0</td>\n",
       "      <td>4928</td>\n",
       "      <td>6</td>\n",
       "      <td>6</td>\n",
       "      <td>1976</td>\n",
       "      <td>1976</td>\n",
       "      <td>250.0</td>\n",
       "      <td>958</td>\n",
       "      <td>...</td>\n",
       "      <td>0</td>\n",
       "      <td>60</td>\n",
       "      <td>0</td>\n",
       "      <td>0</td>\n",
       "      <td>0</td>\n",
       "      <td>0</td>\n",
       "      <td>0</td>\n",
       "      <td>10</td>\n",
       "      <td>2009</td>\n",
       "      <td>143750</td>\n",
       "    </tr>\n",
       "    <tr>\n",
       "      <th>4</th>\n",
       "      <td>439</td>\n",
       "      <td>30</td>\n",
       "      <td>63.0</td>\n",
       "      <td>4280</td>\n",
       "      <td>5</td>\n",
       "      <td>6</td>\n",
       "      <td>1913</td>\n",
       "      <td>2002</td>\n",
       "      <td>106.0</td>\n",
       "      <td>365</td>\n",
       "      <td>...</td>\n",
       "      <td>0</td>\n",
       "      <td>0</td>\n",
       "      <td>34</td>\n",
       "      <td>0</td>\n",
       "      <td>0</td>\n",
       "      <td>0</td>\n",
       "      <td>0</td>\n",
       "      <td>3</td>\n",
       "      <td>2007</td>\n",
       "      <td>90350</td>\n",
       "    </tr>\n",
       "    <tr>\n",
       "      <th>...</th>\n",
       "      <td>...</td>\n",
       "      <td>...</td>\n",
       "      <td>...</td>\n",
       "      <td>...</td>\n",
       "      <td>...</td>\n",
       "      <td>...</td>\n",
       "      <td>...</td>\n",
       "      <td>...</td>\n",
       "      <td>...</td>\n",
       "      <td>...</td>\n",
       "      <td>...</td>\n",
       "      <td>...</td>\n",
       "      <td>...</td>\n",
       "      <td>...</td>\n",
       "      <td>...</td>\n",
       "      <td>...</td>\n",
       "      <td>...</td>\n",
       "      <td>...</td>\n",
       "      <td>...</td>\n",
       "      <td>...</td>\n",
       "      <td>...</td>\n",
       "    </tr>\n",
       "    <tr>\n",
       "      <th>255</th>\n",
       "      <td>1079</td>\n",
       "      <td>120</td>\n",
       "      <td>104.0</td>\n",
       "      <td>4435</td>\n",
       "      <td>6</td>\n",
       "      <td>5</td>\n",
       "      <td>2004</td>\n",
       "      <td>2004</td>\n",
       "      <td>160.0</td>\n",
       "      <td>662</td>\n",
       "      <td>...</td>\n",
       "      <td>140</td>\n",
       "      <td>0</td>\n",
       "      <td>0</td>\n",
       "      <td>0</td>\n",
       "      <td>0</td>\n",
       "      <td>0</td>\n",
       "      <td>0</td>\n",
       "      <td>5</td>\n",
       "      <td>2006</td>\n",
       "      <td>155900</td>\n",
       "    </tr>\n",
       "    <tr>\n",
       "      <th>256</th>\n",
       "      <td>1331</td>\n",
       "      <td>20</td>\n",
       "      <td>80.0</td>\n",
       "      <td>10000</td>\n",
       "      <td>8</td>\n",
       "      <td>5</td>\n",
       "      <td>2006</td>\n",
       "      <td>2006</td>\n",
       "      <td>288.0</td>\n",
       "      <td>0</td>\n",
       "      <td>...</td>\n",
       "      <td>144</td>\n",
       "      <td>45</td>\n",
       "      <td>0</td>\n",
       "      <td>0</td>\n",
       "      <td>0</td>\n",
       "      <td>0</td>\n",
       "      <td>0</td>\n",
       "      <td>12</td>\n",
       "      <td>2007</td>\n",
       "      <td>227000</td>\n",
       "    </tr>\n",
       "    <tr>\n",
       "      <th>257</th>\n",
       "      <td>1302</td>\n",
       "      <td>70</td>\n",
       "      <td>70.0</td>\n",
       "      <td>7500</td>\n",
       "      <td>6</td>\n",
       "      <td>7</td>\n",
       "      <td>1942</td>\n",
       "      <td>1950</td>\n",
       "      <td>0.0</td>\n",
       "      <td>547</td>\n",
       "      <td>...</td>\n",
       "      <td>0</td>\n",
       "      <td>0</td>\n",
       "      <td>0</td>\n",
       "      <td>0</td>\n",
       "      <td>224</td>\n",
       "      <td>0</td>\n",
       "      <td>0</td>\n",
       "      <td>11</td>\n",
       "      <td>2009</td>\n",
       "      <td>177500</td>\n",
       "    </tr>\n",
       "    <tr>\n",
       "      <th>258</th>\n",
       "      <td>580</td>\n",
       "      <td>50</td>\n",
       "      <td>70.0</td>\n",
       "      <td>12150</td>\n",
       "      <td>5</td>\n",
       "      <td>5</td>\n",
       "      <td>1954</td>\n",
       "      <td>1954</td>\n",
       "      <td>122.0</td>\n",
       "      <td>0</td>\n",
       "      <td>...</td>\n",
       "      <td>0</td>\n",
       "      <td>0</td>\n",
       "      <td>0</td>\n",
       "      <td>0</td>\n",
       "      <td>0</td>\n",
       "      <td>0</td>\n",
       "      <td>0</td>\n",
       "      <td>11</td>\n",
       "      <td>2008</td>\n",
       "      <td>131500</td>\n",
       "    </tr>\n",
       "    <tr>\n",
       "      <th>259</th>\n",
       "      <td>172</td>\n",
       "      <td>20</td>\n",
       "      <td>87.0</td>\n",
       "      <td>31770</td>\n",
       "      <td>6</td>\n",
       "      <td>5</td>\n",
       "      <td>1960</td>\n",
       "      <td>1960</td>\n",
       "      <td>261.0</td>\n",
       "      <td>639</td>\n",
       "      <td>...</td>\n",
       "      <td>210</td>\n",
       "      <td>62</td>\n",
       "      <td>0</td>\n",
       "      <td>0</td>\n",
       "      <td>0</td>\n",
       "      <td>0</td>\n",
       "      <td>0</td>\n",
       "      <td>5</td>\n",
       "      <td>2010</td>\n",
       "      <td>215000</td>\n",
       "    </tr>\n",
       "  </tbody>\n",
       "</table>\n",
       "<p>260 rows × 38 columns</p>\n",
       "</div>"
      ],
      "text/plain": [
       "       Id  MSSubClass  LotFrontage  LotArea  OverallQual  OverallCond  \\\n",
       "0     664          85         60.0    10012            4            5   \n",
       "1     347          20         70.0    12772            6            8   \n",
       "2    1333          20         70.0     8877            4            6   \n",
       "3    1432         120         87.0     4928            6            6   \n",
       "4     439          30         63.0     4280            5            6   \n",
       "..    ...         ...          ...      ...          ...          ...   \n",
       "255  1079         120        104.0     4435            6            5   \n",
       "256  1331          20         80.0    10000            8            5   \n",
       "257  1302          70         70.0     7500            6            7   \n",
       "258   580          50         70.0    12150            5            5   \n",
       "259   172          20         87.0    31770            6            5   \n",
       "\n",
       "     YearBuilt  YearRemodAdd  MasVnrArea  BsmtFinSF1  ...  WoodDeckSF  \\\n",
       "0         1972          1972         0.0         920  ...           0   \n",
       "1         1960          1998         0.0         498  ...           0   \n",
       "2         1938          1958         1.0         690  ...           0   \n",
       "3         1976          1976       250.0         958  ...           0   \n",
       "4         1913          2002       106.0         365  ...           0   \n",
       "..         ...           ...         ...         ...  ...         ...   \n",
       "255       2004          2004       160.0         662  ...         140   \n",
       "256       2006          2006       288.0           0  ...         144   \n",
       "257       1942          1950         0.0         547  ...           0   \n",
       "258       1954          1954       122.0           0  ...           0   \n",
       "259       1960          1960       261.0         639  ...         210   \n",
       "\n",
       "     OpenPorchSF  EnclosedPorch  X3SsnPorch  ScreenPorch  PoolArea  MiscVal  \\\n",
       "0              0            180           0            0         0        0   \n",
       "1              0              0           0            0         0    15500   \n",
       "2              0              0           0            0         0        0   \n",
       "3             60              0           0            0         0        0   \n",
       "4              0             34           0            0         0        0   \n",
       "..           ...            ...         ...          ...       ...      ...   \n",
       "255            0              0           0            0         0        0   \n",
       "256           45              0           0            0         0        0   \n",
       "257            0              0           0          224         0        0   \n",
       "258            0              0           0            0         0        0   \n",
       "259           62              0           0            0         0        0   \n",
       "\n",
       "     MoSold  YrSold  SalePrice  \n",
       "0         4    2008     137500  \n",
       "1         4    2007     151500  \n",
       "2         5    2009     100000  \n",
       "3        10    2009     143750  \n",
       "4         3    2007      90350  \n",
       "..      ...     ...        ...  \n",
       "255       5    2006     155900  \n",
       "256      12    2007     227000  \n",
       "257      11    2009     177500  \n",
       "258      11    2008     131500  \n",
       "259       5    2010     215000  \n",
       "\n",
       "[260 rows x 38 columns]"
      ]
     },
     "execution_count": 32,
     "metadata": {},
     "output_type": "execute_result"
    }
   ],
   "source": [
    "cf = pd.read_csv('housing_test.csv')\n",
    "cf1 = cf.copy()\n",
    "e = cf1.select_dtypes(include = 'number')\n",
    "e1 = e.copy()\n",
    "#e1['LotFrontage'] = e1['LotFrontage'].replace(np.nan, 0)\n",
    "#e1['MasVnrArea'] = e1['MasVnrArea'].replace(np.nan, 0)\n",
    "#e1['GarageYrBlt'] = e1['GarageYrBlt'].replace(np.nan, 0)\n",
    "e1['LotFrontage'] = df['LotFrontage'].fillna(df['LotFrontage'].median())\n",
    "e1['MasVnrArea'] = df['MasVnrArea'].fillna(df['MasVnrArea'].median())\n",
    "e1['GarageYrBlt'] = df['GarageYrBlt'].fillna(df['GarageYrBlt'].median())\n",
    "e1.isnull().sum()\n",
    "e1"
   ]
  },
  {
   "cell_type": "code",
   "execution_count": 33,
   "metadata": {},
   "outputs": [
    {
     "data": {
      "text/plain": [
       "(260, 38)"
      ]
     },
     "execution_count": 33,
     "metadata": {},
     "output_type": "execute_result"
    }
   ],
   "source": [
    "e1.shape"
   ]
  },
  {
   "cell_type": "code",
   "execution_count": 34,
   "metadata": {},
   "outputs": [
    {
     "name": "stdout",
     "output_type": "stream",
     "text": [
      "(260, 37)\n",
      "(260,)\n"
     ]
    }
   ],
   "source": [
    "X1test = e1.drop(columns='SalePrice')\n",
    "y1test = e1.loc[:,'SalePrice']\n",
    "print(X1test.shape)\n",
    "print(y1test.shape)"
   ]
  },
  {
   "cell_type": "markdown",
   "metadata": {},
   "source": [
    "Now, we will apply the model for performing prediction on our test dataset."
   ]
  },
  {
   "cell_type": "code",
   "execution_count": 35,
   "metadata": {},
   "outputs": [],
   "source": [
    "from sklearn.linear_model import LinearRegression \n",
    "from sklearn.metrics import r2_score\n"
   ]
  },
  {
   "cell_type": "code",
   "execution_count": 36,
   "metadata": {},
   "outputs": [
    {
     "name": "stdout",
     "output_type": "stream",
     "text": [
      "0.8049191811983052\n"
     ]
    }
   ],
   "source": [
    "prediction = reg_model.predict(X1test)\n",
    "accuracy = reg_model.score(X1test, y1test)\n",
    "print(accuracy)"
   ]
  },
  {
   "cell_type": "code",
   "execution_count": 37,
   "metadata": {},
   "outputs": [
    {
     "data": {
      "image/png": "[encoded data removed]",
      "text/plain": [
       "<Figure size 432x288 with 1 Axes>"
      ]
     },
     "metadata": {},
     "output_type": "display_data"
    }
   ],
   "source": [
    "plt.style.use('seaborn-whitegrid')\n",
    "  \n",
    "# plotting error vs the predicted data for training data\n",
    "h = plt.scatter(reg_model.predict(Xtrain), reg_model.predict(Xtrain) - ytrain,\n",
    "            color = \"green\", s = 10, alpha = 0.5, label = 'Housing_train data')\n",
    "  \n",
    "# plotting for error vs the predicted data for test data\n",
    "p = plt.scatter(reg_model.predict(X1test), reg_model.predict(X1test) - y1test,\n",
    "            color = \"orange\", s = 10, alpha = 0.5, label = 'Housing_test data')\n",
    "  \n",
    "plt.hlines(y = 0, xmin = 0, xmax = 50, linewidth = 2)\n",
    "  \n",
    "plt.legend(loc = 'upper right')\n",
    "plt.title(\"Linear Regression\")\n",
    "plt.show()"
   ]
  },
  {
   "cell_type": "markdown",
   "metadata": {},
   "source": [
    "For the next regression model we will be using is the Lasso regression method."
   ]
  },
  {
   "cell_type": "code",
   "execution_count": 38,
   "metadata": {},
   "outputs": [],
   "source": [
    "from sklearn.linear_model import Lasso"
   ]
  },
  {
   "cell_type": "code",
   "execution_count": 39,
   "metadata": {},
   "outputs": [
    {
     "name": "stdout",
     "output_type": "stream",
     "text": [
      "[0.7164641  0.63979086 0.83716348 0.75598371 0.84292745]\n"
     ]
    }
   ],
   "source": [
    "lassoReg = Lasso(alpha=1.0)\n",
    "lassoReg.fit(Xtrain, ytrain)\n",
    "print(cross_val_score(lassoReg, X1, y))"
   ]
  },
  {
   "cell_type": "code",
   "execution_count": 40,
   "metadata": {},
   "outputs": [
    {
     "name": "stdout",
     "output_type": "stream",
     "text": [
      "0.8049053226695492\n"
     ]
    }
   ],
   "source": [
    "prediction = lassoReg.predict(X1test)\n",
    "accuracy = lassoReg.score(X1test, y1test)\n",
    "print(accuracy)"
   ]
  },
  {
   "cell_type": "code",
   "execution_count": 41,
   "metadata": {},
   "outputs": [
    {
     "data": {
      "image/png": "[encoded data removed]",
      "text/plain": [
       "<Figure size 432x288 with 1 Axes>"
      ]
     },
     "metadata": {},
     "output_type": "display_data"
    }
   ],
   "source": [
    "plt.style.use('seaborn-whitegrid')\n",
    "  \n",
    "# plotting for error vs predicted data in training data\n",
    "a = plt.scatter(lassoReg.predict(Xtrain), lassoReg.predict(Xtrain) - ytrain, color = \"green\", s = 10, alpha = 0.5, label = 'Housing_train data')\n",
    "  \n",
    "# plotting error vs predicted data in test data\n",
    "b = plt.scatter(lassoReg.predict(X1test), lassoReg.predict(X1test) - y1test, color = \"red\", s = 10, alpha = 0.5, label = 'Housing_test data')\n",
    "  \n",
    "plt.hlines(y = 0, xmin = 0, xmax = 50, linewidth = 2)\n",
    "plt.legend(loc = 'upper right')\n",
    "plt.title(\"Lasso Regression\")\n",
    "plt.show()"
   ]
  },
  {
   "cell_type": "markdown",
   "metadata": {},
   "source": [
    "Our 3rd regression model is going to follow the ridge regression method."
   ]
  },
  {
   "cell_type": "code",
   "execution_count": 42,
   "metadata": {},
   "outputs": [],
   "source": [
    "#Regularized Ridge\n",
    "from sklearn.linear_model import Ridge"
   ]
  },
  {
   "cell_type": "code",
   "execution_count": 43,
   "metadata": {},
   "outputs": [
    {
     "name": "stdout",
     "output_type": "stream",
     "text": [
      "[0.71640393 0.63975863 0.83719988 0.75601579 0.84294718]\n"
     ]
    }
   ],
   "source": [
    "Regridge = Ridge(alpha = 0.3)\n",
    "Regridge.fit(Xtrain, ytrain)\n",
    "print(cross_val_score(Regridge, X1, y))"
   ]
  },
  {
   "cell_type": "code",
   "execution_count": 44,
   "metadata": {},
   "outputs": [
    {
     "name": "stdout",
     "output_type": "stream",
     "text": [
      "0.8048889163308874\n"
     ]
    }
   ],
   "source": [
    "prediction = Regridge.predict(X1test)\n",
    "accuracy = Regridge.score(X1test, y1test)\n",
    "print(accuracy)"
   ]
  },
  {
   "cell_type": "code",
   "execution_count": 45,
   "metadata": {},
   "outputs": [
    {
     "data": {
      "image/png": "[encoded data removed]",
      "text/plain": [
       "<Figure size 432x288 with 1 Axes>"
      ]
     },
     "metadata": {},
     "output_type": "display_data"
    }
   ],
   "source": [
    "plt.style.use('seaborn-whitegrid')\n",
    "  \n",
    "# plotting for error vs the predicted data for training data\n",
    "p = plt.scatter(Regridge.predict(Xtrain), Regridge.predict(Xtrain) - ytrain, color = \"blue\", s = 10, alpha = 0.5, label = 'Housing_train data')\n",
    "  \n",
    "# plotting error vs predicted data for test data\n",
    "q = plt.scatter(Regridge.predict(X1test), Regridge.predict(X1test) - y1test, color = \"orange\", s = 10, alpha = 0.5, label = 'Housing_test data')\n",
    "  \n",
    "plt.hlines(y = 0, xmin = 0, xmax = 50, linewidth = 2)\n",
    "plt.legend(loc = 'upper right')\n",
    "plt.title(\"Ridge Regression\")\n",
    "plt.show()"
   ]
  },
  {
   "cell_type": "markdown",
   "metadata": {},
   "source": [
    "In order to answer the question regrading which of the houses has the worst predictions, we have tried to plot a scatter plot of the residual error after performing the predictions with each of the models. Every scatter plot shows very similar scenerio. Majority of the points gather around the x-axis, which indicates that the accuracy of our models are high. However, there are a few points which are away from the x-axis and some of them are quite far away. It can be said that, those houses have the worst predictions. From the graphs it is eveident the the houses with the higher errors are the ones with a very high or low selling prices. Those can also be considered as a outliers which our regression models failed to accomodate.  "
   ]
  },
  {
   "cell_type": "markdown",
   "metadata": {},
   "source": [
    "### Module 5: Summary\n",
    "Summarize your findings and draw conclusions."
   ]
  },
  {
   "cell_type": "markdown",
   "metadata": {},
   "source": [
    "To summarize the findings, I will briefly go through modules 1, 2, 3, and 4 and explain my actions.\n",
    "\n",
    "Module 1:\n",
    "In this module, I explored the housing_train.csv and, in the process, cleaned and prepared it for further analysis. First, I got rid of the extreme outliers since I was going to perform predictions based on this dataset, and outliers can produce significant errors in our forecast. Next, I observed that there are two types of data in the dataset, numerical and categorical. Since I was going to perform Principal Component Analysis in Module 3 for dimension reduction, I decided to split the columns containing categorical data from the dataframe as they could get me into trouble while performing PCA. Next, I checked the dataset for NA values in the remaining columns containing the numerical data. Three columns, 'LotFrontage', 'MasVnrArea', and 'GarageYrBlt', were found. I wanted to avoid the loss of potentially important information. Therefore, I went for imputation rather than removal of the NA values. Now, to determine the best way of imputation for these columns, I checked for the existence of outliers in the columns by plotting boxplots using the data. After plotting the boxplot, I discovered 'LotFrontage' and 'MasVnrArea' contains outliers. Therefore, I decided to fill them using the median of the other values in the respective columns. I preferred median over mean for this case, as means are affected by extreme outliers. The remaining column was the 'GarageYrBlt'. Since it shows date, I filled the missing values of this column with the values next to them. After this, I checked the dataset for any missing values and moved on to the next module.\n",
    "\n",
    "Module 2:\n",
    "In the second module, I performed several data visualizations to observe the relationship between the selling price of the houses with the other features of the houses. In addition to that, I also split the dataframe into two parts, the high-price, and the low-price group. Data visualisations were performed to observe the relationship between each of the variables with the 'SalePrice' and the distributions of the variables of the high-price and the low-price groups were also observed. \n",
    "The first visualization is a scatter plot with 'YearBuilt' on the x-axis and 'SalePrice' on the y-axis. A positive relationship can be observed between the variables 'YearBuilt' and the 'SalePrice'. This means the newer the house is, the higher will be its selling price. It can also be observed that the houses belonging to the high-price category are mostly built in recent times. In contrast, houses belonging to the low-price category span the whole timeline.\n",
    "In the second visualization, regression lines and histograms were used as joint plots to observe the relationship between 'LotFrontage' and the selling price of the house. LotFrontage is the linear feet of street connected to the property. A positive relationship can be observed between the two variables from the positively slopped regression line. A similar distribution is also observed between the variables in the high-price and the low-price group. \n",
    "A bar chart is used for the third visualization to explore the relationship between the total Basement Surface Area of the houses with their selling prices. A general positive trend can be observed for both the high-price and low-price categories. In addition, some bars can also be observed to the extreme right for the low-price category, which can be considered as outliers.\n",
    "In the fourth visualization, kernel density estimations are used to determine the relationship between the 'LotArea', which is the area of the land the house is constructed upon, and its selling price. From the points, it can be seen that the points of both the high-price and the low-price categories have a positive relationship. The strength of the relationship is difficult to determine because of the nature of the visualization. A similar distribution can be observed between the two price groups. However, the range of the high-price group is broader in terms of lot size than the low-price group.\n",
    "The fifth and final visualization of Module 2 is a hexagon density plot which is plotted to observe the association of the Garage Area with the selling price of the houses. Once again, a positive relationship can be observed between the variables from the plot. A similar distribution can also be observed between the high-price and low-price groups, although there are a few extreme points in the low-price group.\n",
    "\n",
    "Module 3:\n",
    "Module 3 required reducing the number of dimensions of the dataset. I decided to perform the Principal Component analysis for the reduction. For performing PCA, columns containing numerical data are used. Next, Feature Matrix and Target variables (SalePrice column) are located. I targeted to select the number of components that can explain 98% of the total variance. Upon performing PCA, I discovered that 30 components could be used to explain more than 98% of the variances. Thus, the number of components was reduced from 37 to 30.\n",
    "\n",
    "Module 4:\n",
    "I used the dataset I prepared in the previous three modules in the fourth module to train my regression models. To do that, I split the training dataset into training data and mock test data. 5 fold cross validation were used to make sure that the models were trained well. The three regression methods which I chose are the simple linear regression method, Lasso regression method, and the Ridge regression method. \n",
    "Upon performing the predictions, accuracy scores were also calculated. In addition to the accuracy score, I also chose to plot residual error scatter plots for both the training and testing dataset for each regression model to observe the overall performance of the models. According to the accuracy scores, simple linear regression performed the best among my three chosen models, and Ridge regression performed the worst among the 3. However, the difference in the score of the three models is very low. But this slight difference can cause big trouble if a dataset of bigger size is applied to the models as the differences will then be magnified. \n",
    "Moreover, some points can be observed on all three residual error scatter plots which are very far away from the x-axis line, i.e., residual error = 0 line. Those points with high errors can be described as the worst predictions. We can see that the selling prices of those houses are on the extreme sides, i.e., very high or very low. Therefore, my models failed to accommodate those extreme points, which can also be called outliers.\n",
    "\n",
    "In conclusion, all three models performed very closely considering the accuracy scores. The accuracy score of simple linear regression is the highest by a very small margin. Some of the houses have very high or low prices, which caused them to be the houses with the worst predictions.\n",
    "\n"
   ]
  },
  {
   "cell_type": "code",
   "execution_count": null,
   "metadata": {},
   "outputs": [],
   "source": []
  }
 ],
 "metadata": {
  "kernelspec": {
   "display_name": "Python 3",
   "language": "python",
   "name": "python3"
  },
  "language_info": {
   "codemirror_mode": {
    "name": "ipython",
    "version": 3
   },
   "file_extension": ".py",
   "mimetype": "text/x-python",
   "name": "python",
   "nbconvert_exporter": "python",
   "pygments_lexer": "ipython3",
   "version": "3.8.8"
  }
 },
 "nbformat": 4,
 "nbformat_minor": 4
}
